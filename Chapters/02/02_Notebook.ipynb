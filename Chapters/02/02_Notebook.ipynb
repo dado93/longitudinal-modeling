{
 "cells": [
  {
   "cell_type": "markdown",
   "metadata": {},
   "source": [
    "# Chapter 2\n",
    "Chapter 2 focuses on the introduction of between-person analysis. The data used in this example are a subset of the [Octogenarian Twin Study of Aging](https://www.maelstrom-research.org/study/octo-twin) dataset. They consist of data from 550 older adults, for which the following measurements were collected:\n",
    "- age\n",
    "- cognition (assessed with the Information Test)\n",
    "- grip strength\n",
    "- sex\n",
    "- dementia diagnosis\n",
    "\n",
    "A review of general linear models (GLM) and Analysis of Variance (ANOVA) methods is provided in this chapter, with a particular focus on the interpretation of interactions among continuous and categorical predictors."
   ]
  },
  {
   "cell_type": "markdown",
   "metadata": {},
   "source": [
    "## Import packages"
   ]
  },
  {
   "cell_type": "code",
   "execution_count": 50,
   "metadata": {},
   "outputs": [],
   "source": [
    "import math\n",
    "import os\n",
    "\n",
    "import pandas as pd\n",
    "from sas7bdat import SAS7BDAT\n",
    "import scipy.stats\n",
    "import statsmodels.formula.api\n",
    "import statsmodels.stats.anova"
   ]
  },
  {
   "cell_type": "markdown",
   "metadata": {},
   "source": [
    "## Constants"
   ]
  },
  {
   "cell_type": "code",
   "execution_count": 2,
   "metadata": {},
   "outputs": [],
   "source": [
    "# File paths\n",
    "FILE_PATH = os.path.join(\"Data\", \"SAS_Chapter2.sas7bdat\")\n",
    "\n",
    "# File columns\n",
    "AGE_COL = \"age\"\n",
    "COGNITION_COL = \"cognition\"\n",
    "GRIP_COL = \"grip\""
   ]
  },
  {
   "cell_type": "markdown",
   "metadata": {},
   "source": [
    "## Read data"
   ]
  },
  {
   "cell_type": "code",
   "execution_count": 3,
   "metadata": {},
   "outputs": [],
   "source": [
    "with SAS7BDAT(FILE_PATH, skip_header=False) as reader:\n",
    "    df = reader.to_data_frame()"
   ]
  },
  {
   "cell_type": "markdown",
   "metadata": {},
   "source": [
    "# Between-Person Empty Model\n",
    "Let's now start our review of between-person analysis methods using an empty model, that does not use any predictor to predict cognition:\n",
    "\n",
    "$\n",
    "y_i = \\beta_0 + e_i\n",
    "$\n",
    "\n",
    "The only parameter that our model needs to determine is the intercept $\\beta_0$."
   ]
  },
  {
   "cell_type": "code",
   "execution_count": 4,
   "metadata": {},
   "outputs": [
    {
     "data": {
      "text/html": [
       "<table class=\"simpletable\">\n",
       "<caption>OLS Regression Results</caption>\n",
       "<tr>\n",
       "  <th>Dep. Variable:</th>        <td>cognition</td>    <th>  R-squared:         </th> <td>  -0.000</td>\n",
       "</tr>\n",
       "<tr>\n",
       "  <th>Model:</th>                   <td>OLS</td>       <th>  Adj. R-squared:    </th> <td>  -0.000</td>\n",
       "</tr>\n",
       "<tr>\n",
       "  <th>Method:</th>             <td>Least Squares</td>  <th>  F-statistic:       </th> <td>     nan</td>\n",
       "</tr>\n",
       "<tr>\n",
       "  <th>Date:</th>             <td>Thu, 18 Jul 2024</td> <th>  Prob (F-statistic):</th>  <td>   nan</td> \n",
       "</tr>\n",
       "<tr>\n",
       "  <th>Time:</th>                 <td>16:18:51</td>     <th>  Log-Likelihood:    </th> <td> -2098.2</td>\n",
       "</tr>\n",
       "<tr>\n",
       "  <th>No. Observations:</th>      <td>   550</td>      <th>  AIC:               </th> <td>   4198.</td>\n",
       "</tr>\n",
       "<tr>\n",
       "  <th>Df Residuals:</th>          <td>   549</td>      <th>  BIC:               </th> <td>   4203.</td>\n",
       "</tr>\n",
       "<tr>\n",
       "  <th>Df Model:</th>              <td>     0</td>      <th>                     </th>     <td> </td>   \n",
       "</tr>\n",
       "<tr>\n",
       "  <th>Covariance Type:</th>      <td>nonrobust</td>    <th>                     </th>     <td> </td>   \n",
       "</tr>\n",
       "</table>\n",
       "<table class=\"simpletable\">\n",
       "<tr>\n",
       "      <td></td>         <th>coef</th>     <th>std err</th>      <th>t</th>      <th>P>|t|</th>  <th>[0.025</th>    <th>0.975]</th>  \n",
       "</tr>\n",
       "<tr>\n",
       "  <th>Intercept</th> <td>   24.8218</td> <td>    0.469</td> <td>   52.973</td> <td> 0.000</td> <td>   23.901</td> <td>   25.742</td>\n",
       "</tr>\n",
       "</table>\n",
       "<table class=\"simpletable\">\n",
       "<tr>\n",
       "  <th>Omnibus:</th>       <td>23.202</td> <th>  Durbin-Watson:     </th> <td>   1.985</td>\n",
       "</tr>\n",
       "<tr>\n",
       "  <th>Prob(Omnibus):</th> <td> 0.000</td> <th>  Jarque-Bera (JB):  </th> <td>  14.625</td>\n",
       "</tr>\n",
       "<tr>\n",
       "  <th>Skew:</th>          <td>-0.260</td> <th>  Prob(JB):          </th> <td>0.000667</td>\n",
       "</tr>\n",
       "<tr>\n",
       "  <th>Kurtosis:</th>      <td> 2.393</td> <th>  Cond. No.          </th> <td>    1.00</td>\n",
       "</tr>\n",
       "</table><br/><br/>Notes:<br/>[1] Standard Errors assume that the covariance matrix of the errors is correctly specified."
      ],
      "text/latex": [
       "\\begin{center}\n",
       "\\begin{tabular}{lclc}\n",
       "\\toprule\n",
       "\\textbf{Dep. Variable:}    &    cognition     & \\textbf{  R-squared:         } &    -0.000   \\\\\n",
       "\\textbf{Model:}            &       OLS        & \\textbf{  Adj. R-squared:    } &    -0.000   \\\\\n",
       "\\textbf{Method:}           &  Least Squares   & \\textbf{  F-statistic:       } &       nan   \\\\\n",
       "\\textbf{Date:}             & Thu, 18 Jul 2024 & \\textbf{  Prob (F-statistic):} &      nan    \\\\\n",
       "\\textbf{Time:}             &     16:18:51     & \\textbf{  Log-Likelihood:    } &   -2098.2   \\\\\n",
       "\\textbf{No. Observations:} &         550      & \\textbf{  AIC:               } &     4198.   \\\\\n",
       "\\textbf{Df Residuals:}     &         549      & \\textbf{  BIC:               } &     4203.   \\\\\n",
       "\\textbf{Df Model:}         &           0      & \\textbf{                     } &             \\\\\n",
       "\\textbf{Covariance Type:}  &    nonrobust     & \\textbf{                     } &             \\\\\n",
       "\\bottomrule\n",
       "\\end{tabular}\n",
       "\\begin{tabular}{lcccccc}\n",
       "                   & \\textbf{coef} & \\textbf{std err} & \\textbf{t} & \\textbf{P$> |$t$|$} & \\textbf{[0.025} & \\textbf{0.975]}  \\\\\n",
       "\\midrule\n",
       "\\textbf{Intercept} &      24.8218  &        0.469     &    52.973  &         0.000        &       23.901    &       25.742     \\\\\n",
       "\\bottomrule\n",
       "\\end{tabular}\n",
       "\\begin{tabular}{lclc}\n",
       "\\textbf{Omnibus:}       & 23.202 & \\textbf{  Durbin-Watson:     } &    1.985  \\\\\n",
       "\\textbf{Prob(Omnibus):} &  0.000 & \\textbf{  Jarque-Bera (JB):  } &   14.625  \\\\\n",
       "\\textbf{Skew:}          & -0.260 & \\textbf{  Prob(JB):          } & 0.000667  \\\\\n",
       "\\textbf{Kurtosis:}      &  2.393 & \\textbf{  Cond. No.          } &     1.00  \\\\\n",
       "\\bottomrule\n",
       "\\end{tabular}\n",
       "%\\caption{OLS Regression Results}\n",
       "\\end{center}\n",
       "\n",
       "Notes: \\newline\n",
       " [1] Standard Errors assume that the covariance matrix of the errors is correctly specified."
      ],
      "text/plain": [
       "<class 'statsmodels.iolib.summary.Summary'>\n",
       "\"\"\"\n",
       "                            OLS Regression Results                            \n",
       "==============================================================================\n",
       "Dep. Variable:              cognition   R-squared:                      -0.000\n",
       "Model:                            OLS   Adj. R-squared:                 -0.000\n",
       "Method:                 Least Squares   F-statistic:                       nan\n",
       "Date:                Thu, 18 Jul 2024   Prob (F-statistic):                nan\n",
       "Time:                        16:18:51   Log-Likelihood:                -2098.2\n",
       "No. Observations:                 550   AIC:                             4198.\n",
       "Df Residuals:                     549   BIC:                             4203.\n",
       "Df Model:                           0                                         \n",
       "Covariance Type:            nonrobust                                         \n",
       "==============================================================================\n",
       "                 coef    std err          t      P>|t|      [0.025      0.975]\n",
       "------------------------------------------------------------------------------\n",
       "Intercept     24.8218      0.469     52.973      0.000      23.901      25.742\n",
       "==============================================================================\n",
       "Omnibus:                       23.202   Durbin-Watson:                   1.985\n",
       "Prob(Omnibus):                  0.000   Jarque-Bera (JB):               14.625\n",
       "Skew:                          -0.260   Prob(JB):                     0.000667\n",
       "Kurtosis:                       2.393   Cond. No.                         1.00\n",
       "==============================================================================\n",
       "\n",
       "Notes:\n",
       "[1] Standard Errors assume that the covariance matrix of the errors is correctly specified.\n",
       "\"\"\""
      ]
     },
     "execution_count": 4,
     "metadata": {},
     "output_type": "execute_result"
    }
   ],
   "source": [
    "empty_model = statsmodels.formula.api.ols(formula=\"cognition ~ 1\", data=df).fit()\n",
    "empty_model.summary()"
   ]
  },
  {
   "cell_type": "markdown",
   "metadata": {},
   "source": [
    "As we can see from the results above, the intercept (`24.82`) corresponds to the grand total mean of cognition across all the dataset:"
   ]
  },
  {
   "cell_type": "code",
   "execution_count": 12,
   "metadata": {},
   "outputs": [
    {
     "name": "stdout",
     "output_type": "stream",
     "text": [
      "Grand mean for cognition: 24.82\n",
      "Intercept of the empty model: 24.82\n"
     ]
    }
   ],
   "source": [
    "print(f\"Grand mean for cognition: {df[COGNITION_COL].mean():.2f}\")\n",
    "print(f\"Intercept of the empty model: {empty_model.params.loc[\"Intercept\"]:.2f}\")"
   ]
  },
  {
   "cell_type": "markdown",
   "metadata": {},
   "source": [
    "The variance of the residuals is computed as:\n",
    "\n",
    "$\n",
    "\\sigma_e^2 = \\frac{\\sum_{i=1}^N\\left(y_i-\\hat{y_i}^2\\right)}{N-k}\n",
    "$\n",
    "\n",
    "where $N$ is the total number of samples, $k$ is the number of effects (1 in this case, since we only have the intercept).\n",
    "\n",
    "With `statsmodels`, we can retrieve the residual variance by accessing ``empty_model.mse_resid``, and for the empty model it corresponds to 120.76."
   ]
  },
  {
   "cell_type": "code",
   "execution_count": 14,
   "metadata": {},
   "outputs": [
    {
     "name": "stdout",
     "output_type": "stream",
     "text": [
      "Residual variance for the empty model: 120.76\n"
     ]
    }
   ],
   "source": [
    "print(f\"Residual variance for the empty model: {empty_model.mse_resid:.2f}\")"
   ]
  },
  {
   "cell_type": "markdown",
   "metadata": {},
   "source": [
    "# Between-Person Analysis Using Continuous Predictors"
   ]
  },
  {
   "cell_type": "markdown",
   "metadata": {},
   "source": [
    "## Age\n",
    "We expect age to be a good predictor of cognition, with a decrease in cognition as age progresses. We can then build a model that uses age to predict the cognition. \n",
    "\n",
    "Since the samples of our dataset contain data from people with age > 80, we need to center the age predictor in order to have a meaningful 0 value: we will use 85 as a 0 value.\n",
    "We substract this value to create a new variable named `centered_age`, and we will use it in our models."
   ]
  },
  {
   "cell_type": "code",
   "execution_count": 15,
   "metadata": {},
   "outputs": [],
   "source": [
    "CENTERED_AGE_COL = \"centered_age\"\n",
    "df[CENTERED_AGE_COL] = df[AGE_COL] - 85"
   ]
  },
  {
   "cell_type": "markdown",
   "metadata": {},
   "source": [
    "Let's now fit the model using centered_age as a predictor."
   ]
  },
  {
   "cell_type": "code",
   "execution_count": 17,
   "metadata": {},
   "outputs": [
    {
     "data": {
      "text/html": [
       "<table class=\"simpletable\">\n",
       "<caption>OLS Regression Results</caption>\n",
       "<tr>\n",
       "  <th>Dep. Variable:</th>        <td>cognition</td>    <th>  R-squared:         </th> <td>   0.029</td>\n",
       "</tr>\n",
       "<tr>\n",
       "  <th>Model:</th>                   <td>OLS</td>       <th>  Adj. R-squared:    </th> <td>   0.027</td>\n",
       "</tr>\n",
       "<tr>\n",
       "  <th>Method:</th>             <td>Least Squares</td>  <th>  F-statistic:       </th> <td>   16.40</td>\n",
       "</tr>\n",
       "<tr>\n",
       "  <th>Date:</th>             <td>Thu, 18 Jul 2024</td> <th>  Prob (F-statistic):</th> <td>5.87e-05</td>\n",
       "</tr>\n",
       "<tr>\n",
       "  <th>Time:</th>                 <td>16:25:03</td>     <th>  Log-Likelihood:    </th> <td> -2090.1</td>\n",
       "</tr>\n",
       "<tr>\n",
       "  <th>No. Observations:</th>      <td>   550</td>      <th>  AIC:               </th> <td>   4184.</td>\n",
       "</tr>\n",
       "<tr>\n",
       "  <th>Df Residuals:</th>          <td>   548</td>      <th>  BIC:               </th> <td>   4193.</td>\n",
       "</tr>\n",
       "<tr>\n",
       "  <th>Df Model:</th>              <td>     1</td>      <th>                     </th>     <td> </td>   \n",
       "</tr>\n",
       "<tr>\n",
       "  <th>Covariance Type:</th>      <td>nonrobust</td>    <th>                     </th>     <td> </td>   \n",
       "</tr>\n",
       "</table>\n",
       "<table class=\"simpletable\">\n",
       "<tr>\n",
       "        <td></td>          <th>coef</th>     <th>std err</th>      <th>t</th>      <th>P>|t|</th>  <th>[0.025</th>    <th>0.975]</th>  \n",
       "</tr>\n",
       "<tr>\n",
       "  <th>Intercept</th>    <td>   24.7818</td> <td>    0.462</td> <td>   53.612</td> <td> 0.000</td> <td>   23.874</td> <td>   25.690</td>\n",
       "</tr>\n",
       "<tr>\n",
       "  <th>centered_age</th> <td>   -0.5461</td> <td>    0.135</td> <td>   -4.049</td> <td> 0.000</td> <td>   -0.811</td> <td>   -0.281</td>\n",
       "</tr>\n",
       "</table>\n",
       "<table class=\"simpletable\">\n",
       "<tr>\n",
       "  <th>Omnibus:</th>       <td>19.700</td> <th>  Durbin-Watson:     </th> <td>   1.999</td>\n",
       "</tr>\n",
       "<tr>\n",
       "  <th>Prob(Omnibus):</th> <td> 0.000</td> <th>  Jarque-Bera (JB):  </th> <td>  12.788</td>\n",
       "</tr>\n",
       "<tr>\n",
       "  <th>Skew:</th>          <td>-0.238</td> <th>  Prob(JB):          </th> <td> 0.00167</td>\n",
       "</tr>\n",
       "<tr>\n",
       "  <th>Kurtosis:</th>      <td> 2.425</td> <th>  Cond. No.          </th> <td>    3.43</td>\n",
       "</tr>\n",
       "</table><br/><br/>Notes:<br/>[1] Standard Errors assume that the covariance matrix of the errors is correctly specified."
      ],
      "text/latex": [
       "\\begin{center}\n",
       "\\begin{tabular}{lclc}\n",
       "\\toprule\n",
       "\\textbf{Dep. Variable:}    &    cognition     & \\textbf{  R-squared:         } &     0.029   \\\\\n",
       "\\textbf{Model:}            &       OLS        & \\textbf{  Adj. R-squared:    } &     0.027   \\\\\n",
       "\\textbf{Method:}           &  Least Squares   & \\textbf{  F-statistic:       } &     16.40   \\\\\n",
       "\\textbf{Date:}             & Thu, 18 Jul 2024 & \\textbf{  Prob (F-statistic):} &  5.87e-05   \\\\\n",
       "\\textbf{Time:}             &     16:25:03     & \\textbf{  Log-Likelihood:    } &   -2090.1   \\\\\n",
       "\\textbf{No. Observations:} &         550      & \\textbf{  AIC:               } &     4184.   \\\\\n",
       "\\textbf{Df Residuals:}     &         548      & \\textbf{  BIC:               } &     4193.   \\\\\n",
       "\\textbf{Df Model:}         &           1      & \\textbf{                     } &             \\\\\n",
       "\\textbf{Covariance Type:}  &    nonrobust     & \\textbf{                     } &             \\\\\n",
       "\\bottomrule\n",
       "\\end{tabular}\n",
       "\\begin{tabular}{lcccccc}\n",
       "                       & \\textbf{coef} & \\textbf{std err} & \\textbf{t} & \\textbf{P$> |$t$|$} & \\textbf{[0.025} & \\textbf{0.975]}  \\\\\n",
       "\\midrule\n",
       "\\textbf{Intercept}     &      24.7818  &        0.462     &    53.612  &         0.000        &       23.874    &       25.690     \\\\\n",
       "\\textbf{centered\\_age} &      -0.5461  &        0.135     &    -4.049  &         0.000        &       -0.811    &       -0.281     \\\\\n",
       "\\bottomrule\n",
       "\\end{tabular}\n",
       "\\begin{tabular}{lclc}\n",
       "\\textbf{Omnibus:}       & 19.700 & \\textbf{  Durbin-Watson:     } &    1.999  \\\\\n",
       "\\textbf{Prob(Omnibus):} &  0.000 & \\textbf{  Jarque-Bera (JB):  } &   12.788  \\\\\n",
       "\\textbf{Skew:}          & -0.238 & \\textbf{  Prob(JB):          } &  0.00167  \\\\\n",
       "\\textbf{Kurtosis:}      &  2.425 & \\textbf{  Cond. No.          } &     3.43  \\\\\n",
       "\\bottomrule\n",
       "\\end{tabular}\n",
       "%\\caption{OLS Regression Results}\n",
       "\\end{center}\n",
       "\n",
       "Notes: \\newline\n",
       " [1] Standard Errors assume that the covariance matrix of the errors is correctly specified."
      ],
      "text/plain": [
       "<class 'statsmodels.iolib.summary.Summary'>\n",
       "\"\"\"\n",
       "                            OLS Regression Results                            \n",
       "==============================================================================\n",
       "Dep. Variable:              cognition   R-squared:                       0.029\n",
       "Model:                            OLS   Adj. R-squared:                  0.027\n",
       "Method:                 Least Squares   F-statistic:                     16.40\n",
       "Date:                Thu, 18 Jul 2024   Prob (F-statistic):           5.87e-05\n",
       "Time:                        16:25:03   Log-Likelihood:                -2090.1\n",
       "No. Observations:                 550   AIC:                             4184.\n",
       "Df Residuals:                     548   BIC:                             4193.\n",
       "Df Model:                           1                                         \n",
       "Covariance Type:            nonrobust                                         \n",
       "================================================================================\n",
       "                   coef    std err          t      P>|t|      [0.025      0.975]\n",
       "--------------------------------------------------------------------------------\n",
       "Intercept       24.7818      0.462     53.612      0.000      23.874      25.690\n",
       "centered_age    -0.5461      0.135     -4.049      0.000      -0.811      -0.281\n",
       "==============================================================================\n",
       "Omnibus:                       19.700   Durbin-Watson:                   1.999\n",
       "Prob(Omnibus):                  0.000   Jarque-Bera (JB):               12.788\n",
       "Skew:                          -0.238   Prob(JB):                      0.00167\n",
       "Kurtosis:                       2.425   Cond. No.                         3.43\n",
       "==============================================================================\n",
       "\n",
       "Notes:\n",
       "[1] Standard Errors assume that the covariance matrix of the errors is correctly specified.\n",
       "\"\"\""
      ]
     },
     "execution_count": 17,
     "metadata": {},
     "output_type": "execute_result"
    }
   ],
   "source": [
    "age_model = statsmodels.formula.api.ols(formula=f\"{COGNITION_COL} ~ {CENTERED_AGE_COL}\", data=df).fit()\n",
    "age_model.summary()"
   ]
  },
  {
   "cell_type": "markdown",
   "metadata": {},
   "source": [
    "The coefficient for centered_age is equal to -0.5461, and as expected it is a negative coefficient, meaning that there is a decline in cognition as age progresses. In particular, for a one-unit change in age, there is an expected decrease in cognition of -0.5461.\n",
    "\n",
    "The intercept value (now equal to 24.7818) corresponds to the expected cognition value for a person with 85 years old, since our 0 is now 85 years\n",
    "\n",
    "The $R^2$ of the model that uses age as a unique predictor is 0.03. Another way to get to the same value it's by computing the relative change in residual variance with respect to the empty model:\n",
    "\n",
    "```\n",
    "(age_model.mse_resid - empty_model.mse_resid)/empty_model.mse_resid\n",
    "```\n"
   ]
  },
  {
   "cell_type": "code",
   "execution_count": 18,
   "metadata": {},
   "outputs": [
    {
     "name": "stdout",
     "output_type": "stream",
     "text": [
      "0.03\n"
     ]
    }
   ],
   "source": [
    "print(f\"{(empty_model.mse_resid-age_model.mse_resid)/empty_model.mse_resid:.2f}\")"
   ]
  },
  {
   "cell_type": "markdown",
   "metadata": {},
   "source": [
    "In order to determine if the age coefficient is significat, we need to compute the standard error for the coefficient. The standard error for a coefficient is defined as:\n",
    "\n",
    "$\n",
    "SE_{\\beta_X} = \\sqrt{\\frac{Var(y_i)*(1-R_Y^2)}{Var(x_i)*(1-R_x^2)*(N-k)}}\n",
    "$\n",
    "\n",
    "Thus, the standard error ($SE$) for a predictor depends on the amount of variance in the outcome variable that is still remaining in the model"
   ]
  },
  {
   "cell_type": "code",
   "execution_count": 35,
   "metadata": {},
   "outputs": [
    {
     "name": "stdout",
     "output_type": "stream",
     "text": [
      "SE: 0.135\n"
     ]
    }
   ],
   "source": [
    "# SE numerator\n",
    "se_num = df[COGNITION_COL].std()**2*(1-((empty_model.mse_resid-age_model.mse_resid)/empty_model.mse_resid))\n",
    "# SE denominator\n",
    "se_den = (df[AGE_COL].std()**2)*(1-0)*(len(df)-1)\n",
    "# Compute SE\n",
    "se = math.sqrt(se_num/se_den)\n",
    "print(f\"SE: {se:.3f}\")"
   ]
  },
  {
   "cell_type": "markdown",
   "metadata": {},
   "source": [
    "In order to determine if the slope is significantly different from $0$, we can run what it's called a Wald test. We compute the ratio between the coefficient and its standard error (SE), and compare it a t-distribution to determine if the age slope is different from 0."
   ]
  },
  {
   "cell_type": "code",
   "execution_count": 55,
   "metadata": {},
   "outputs": [
    {
     "name": "stdout",
     "output_type": "stream",
     "text": [
      "t-statistic: -4.0494\n"
     ]
    }
   ],
   "source": [
    "t_statistic = age_model.params.loc[CENTERED_AGE_COL]/se\n",
    "print(f\"t-statistic: {t_statistic:.4f}\")"
   ]
  },
  {
   "cell_type": "code",
   "execution_count": 57,
   "metadata": {},
   "outputs": [
    {
     "name": "stdout",
     "output_type": "stream",
     "text": [
      "True\n"
     ]
    }
   ],
   "source": [
    "critical_value = scipy.stats.t.ppf(0.025,len(df)-2)\n",
    "print(t_statistic < critical_value)"
   ]
  },
  {
   "cell_type": "markdown",
   "metadata": {},
   "source": [
    "We can also determine the confidence interval for the estimate of the coefficient, defined as $\\beta_1\\pm1.96*SE$:"
   ]
  },
  {
   "cell_type": "code",
   "execution_count": 65,
   "metadata": {},
   "outputs": [
    {
     "name": "stdout",
     "output_type": "stream",
     "text": [
      "Age coefficient CI: (-0.8104,-0.2818)\n"
     ]
    }
   ],
   "source": [
    "print(f\"Age coefficient CI: ({age_model.params.loc[CENTERED_AGE_COL]-1.96*se:.4f},{age_model.params.loc[CENTERED_AGE_COL]+1.96*se:.4f})\")"
   ]
  },
  {
   "cell_type": "markdown",
   "metadata": {},
   "source": [
    "## Age and Grip\n",
    "In addition to age, we can include another predictor in the model that is the grip strength. Similar to what we did for age, we need to properly center the grip strength. Since we have a mean of around 9 pounds, we use this value as a center point."
   ]
  },
  {
   "cell_type": "code",
   "execution_count": 37,
   "metadata": {},
   "outputs": [],
   "source": [
    "CENTERED_GRIP_COL = \"centered_grip\"\n",
    "df[CENTERED_GRIP_COL] = df[GRIP_COL] - 9"
   ]
  },
  {
   "cell_type": "code",
   "execution_count": 66,
   "metadata": {},
   "outputs": [
    {
     "data": {
      "text/html": [
       "<table class=\"simpletable\">\n",
       "<caption>OLS Regression Results</caption>\n",
       "<tr>\n",
       "  <th>Dep. Variable:</th>        <td>cognition</td>    <th>  R-squared:         </th> <td>   0.075</td>\n",
       "</tr>\n",
       "<tr>\n",
       "  <th>Model:</th>                   <td>OLS</td>       <th>  Adj. R-squared:    </th> <td>   0.072</td>\n",
       "</tr>\n",
       "<tr>\n",
       "  <th>Method:</th>             <td>Least Squares</td>  <th>  F-statistic:       </th> <td>   22.14</td>\n",
       "</tr>\n",
       "<tr>\n",
       "  <th>Date:</th>             <td>Thu, 18 Jul 2024</td> <th>  Prob (F-statistic):</th> <td>5.66e-10</td>\n",
       "</tr>\n",
       "<tr>\n",
       "  <th>Time:</th>                 <td>17:11:27</td>     <th>  Log-Likelihood:    </th> <td> -2076.8</td>\n",
       "</tr>\n",
       "<tr>\n",
       "  <th>No. Observations:</th>      <td>   550</td>      <th>  AIC:               </th> <td>   4160.</td>\n",
       "</tr>\n",
       "<tr>\n",
       "  <th>Df Residuals:</th>          <td>   547</td>      <th>  BIC:               </th> <td>   4173.</td>\n",
       "</tr>\n",
       "<tr>\n",
       "  <th>Df Model:</th>              <td>     2</td>      <th>                     </th>     <td> </td>   \n",
       "</tr>\n",
       "<tr>\n",
       "  <th>Covariance Type:</th>      <td>nonrobust</td>    <th>                     </th>     <td> </td>   \n",
       "</tr>\n",
       "</table>\n",
       "<table class=\"simpletable\">\n",
       "<tr>\n",
       "        <td></td>           <th>coef</th>     <th>std err</th>      <th>t</th>      <th>P>|t|</th>  <th>[0.025</th>    <th>0.975]</th>  \n",
       "</tr>\n",
       "<tr>\n",
       "  <th>Intercept</th>     <td>   24.7008</td> <td>    0.452</td> <td>   54.662</td> <td> 0.000</td> <td>   23.813</td> <td>   25.588</td>\n",
       "</tr>\n",
       "<tr>\n",
       "  <th>centered_age</th>  <td>   -0.4176</td> <td>    0.134</td> <td>   -3.115</td> <td> 0.002</td> <td>   -0.681</td> <td>   -0.154</td>\n",
       "</tr>\n",
       "<tr>\n",
       "  <th>centered_grip</th> <td>    0.8025</td> <td>    0.154</td> <td>    5.206</td> <td> 0.000</td> <td>    0.500</td> <td>    1.105</td>\n",
       "</tr>\n",
       "</table>\n",
       "<table class=\"simpletable\">\n",
       "<tr>\n",
       "  <th>Omnibus:</th>       <td>17.496</td> <th>  Durbin-Watson:     </th> <td>   1.992</td>\n",
       "</tr>\n",
       "<tr>\n",
       "  <th>Prob(Omnibus):</th> <td> 0.000</td> <th>  Jarque-Bera (JB):  </th> <td>  12.268</td>\n",
       "</tr>\n",
       "<tr>\n",
       "  <th>Skew:</th>          <td>-0.248</td> <th>  Prob(JB):          </th> <td> 0.00217</td>\n",
       "</tr>\n",
       "<tr>\n",
       "  <th>Kurtosis:</th>      <td> 2.462</td> <th>  Cond. No.          </th> <td>    3.57</td>\n",
       "</tr>\n",
       "</table><br/><br/>Notes:<br/>[1] Standard Errors assume that the covariance matrix of the errors is correctly specified."
      ],
      "text/latex": [
       "\\begin{center}\n",
       "\\begin{tabular}{lclc}\n",
       "\\toprule\n",
       "\\textbf{Dep. Variable:}    &    cognition     & \\textbf{  R-squared:         } &     0.075   \\\\\n",
       "\\textbf{Model:}            &       OLS        & \\textbf{  Adj. R-squared:    } &     0.072   \\\\\n",
       "\\textbf{Method:}           &  Least Squares   & \\textbf{  F-statistic:       } &     22.14   \\\\\n",
       "\\textbf{Date:}             & Thu, 18 Jul 2024 & \\textbf{  Prob (F-statistic):} &  5.66e-10   \\\\\n",
       "\\textbf{Time:}             &     17:11:27     & \\textbf{  Log-Likelihood:    } &   -2076.8   \\\\\n",
       "\\textbf{No. Observations:} &         550      & \\textbf{  AIC:               } &     4160.   \\\\\n",
       "\\textbf{Df Residuals:}     &         547      & \\textbf{  BIC:               } &     4173.   \\\\\n",
       "\\textbf{Df Model:}         &           2      & \\textbf{                     } &             \\\\\n",
       "\\textbf{Covariance Type:}  &    nonrobust     & \\textbf{                     } &             \\\\\n",
       "\\bottomrule\n",
       "\\end{tabular}\n",
       "\\begin{tabular}{lcccccc}\n",
       "                        & \\textbf{coef} & \\textbf{std err} & \\textbf{t} & \\textbf{P$> |$t$|$} & \\textbf{[0.025} & \\textbf{0.975]}  \\\\\n",
       "\\midrule\n",
       "\\textbf{Intercept}      &      24.7008  &        0.452     &    54.662  &         0.000        &       23.813    &       25.588     \\\\\n",
       "\\textbf{centered\\_age}  &      -0.4176  &        0.134     &    -3.115  &         0.002        &       -0.681    &       -0.154     \\\\\n",
       "\\textbf{centered\\_grip} &       0.8025  &        0.154     &     5.206  &         0.000        &        0.500    &        1.105     \\\\\n",
       "\\bottomrule\n",
       "\\end{tabular}\n",
       "\\begin{tabular}{lclc}\n",
       "\\textbf{Omnibus:}       & 17.496 & \\textbf{  Durbin-Watson:     } &    1.992  \\\\\n",
       "\\textbf{Prob(Omnibus):} &  0.000 & \\textbf{  Jarque-Bera (JB):  } &   12.268  \\\\\n",
       "\\textbf{Skew:}          & -0.248 & \\textbf{  Prob(JB):          } &  0.00217  \\\\\n",
       "\\textbf{Kurtosis:}      &  2.462 & \\textbf{  Cond. No.          } &     3.57  \\\\\n",
       "\\bottomrule\n",
       "\\end{tabular}\n",
       "%\\caption{OLS Regression Results}\n",
       "\\end{center}\n",
       "\n",
       "Notes: \\newline\n",
       " [1] Standard Errors assume that the covariance matrix of the errors is correctly specified."
      ],
      "text/plain": [
       "<class 'statsmodels.iolib.summary.Summary'>\n",
       "\"\"\"\n",
       "                            OLS Regression Results                            \n",
       "==============================================================================\n",
       "Dep. Variable:              cognition   R-squared:                       0.075\n",
       "Model:                            OLS   Adj. R-squared:                  0.072\n",
       "Method:                 Least Squares   F-statistic:                     22.14\n",
       "Date:                Thu, 18 Jul 2024   Prob (F-statistic):           5.66e-10\n",
       "Time:                        17:11:27   Log-Likelihood:                -2076.8\n",
       "No. Observations:                 550   AIC:                             4160.\n",
       "Df Residuals:                     547   BIC:                             4173.\n",
       "Df Model:                           2                                         \n",
       "Covariance Type:            nonrobust                                         \n",
       "=================================================================================\n",
       "                    coef    std err          t      P>|t|      [0.025      0.975]\n",
       "---------------------------------------------------------------------------------\n",
       "Intercept        24.7008      0.452     54.662      0.000      23.813      25.588\n",
       "centered_age     -0.4176      0.134     -3.115      0.002      -0.681      -0.154\n",
       "centered_grip     0.8025      0.154      5.206      0.000       0.500       1.105\n",
       "==============================================================================\n",
       "Omnibus:                       17.496   Durbin-Watson:                   1.992\n",
       "Prob(Omnibus):                  0.000   Jarque-Bera (JB):               12.268\n",
       "Skew:                          -0.248   Prob(JB):                      0.00217\n",
       "Kurtosis:                       2.462   Cond. No.                         3.57\n",
       "==============================================================================\n",
       "\n",
       "Notes:\n",
       "[1] Standard Errors assume that the covariance matrix of the errors is correctly specified.\n",
       "\"\"\""
      ]
     },
     "execution_count": 66,
     "metadata": {},
     "output_type": "execute_result"
    }
   ],
   "source": [
    "age_grip_model = statsmodels.formula.api.ols(formula=f\"\"\"{COGNITION_COL} ~ \n",
    "                                             {CENTERED_AGE_COL} + \n",
    "                                             {CENTERED_GRIP_COL}\"\"\", data=df).fit()\n",
    "age_grip_model.summary()"
   ]
  },
  {
   "cell_type": "markdown",
   "metadata": {},
   "source": [
    "Now, the intercept is the expected cognition level for a person of 85 years old with 9 pounds grip strength. The slope for age ($-0.4176$) is less than the previous one, since we have a correlation with grip strength in the dataset.\n",
    "\n",
    "With the grip strength coefficient of 0.80, we expect cognition to increase of 0.8 for every additional year of age."
   ]
  },
  {
   "cell_type": "code",
   "execution_count": 67,
   "metadata": {},
   "outputs": [
    {
     "data": {
      "text/html": [
       "<div>\n",
       "<style scoped>\n",
       "    .dataframe tbody tr th:only-of-type {\n",
       "        vertical-align: middle;\n",
       "    }\n",
       "\n",
       "    .dataframe tbody tr th {\n",
       "        vertical-align: top;\n",
       "    }\n",
       "\n",
       "    .dataframe thead th {\n",
       "        text-align: right;\n",
       "    }\n",
       "</style>\n",
       "<table border=\"1\" class=\"dataframe\">\n",
       "  <thead>\n",
       "    <tr style=\"text-align: right;\">\n",
       "      <th></th>\n",
       "      <th>centered_age</th>\n",
       "      <th>centered_grip</th>\n",
       "    </tr>\n",
       "  </thead>\n",
       "  <tbody>\n",
       "    <tr>\n",
       "      <th>centered_age</th>\n",
       "      <td>1.000000</td>\n",
       "      <td>-0.184135</td>\n",
       "    </tr>\n",
       "    <tr>\n",
       "      <th>centered_grip</th>\n",
       "      <td>-0.184135</td>\n",
       "      <td>1.000000</td>\n",
       "    </tr>\n",
       "  </tbody>\n",
       "</table>\n",
       "</div>"
      ],
      "text/plain": [
       "               centered_age  centered_grip\n",
       "centered_age       1.000000      -0.184135\n",
       "centered_grip     -0.184135       1.000000"
      ]
     },
     "execution_count": 67,
     "metadata": {},
     "output_type": "execute_result"
    }
   ],
   "source": [
    "df.loc[:,[CENTERED_AGE_COL, CENTERED_GRIP_COL]].corr()"
   ]
  },
  {
   "cell_type": "code",
   "execution_count": 34,
   "metadata": {},
   "outputs": [
    {
     "name": "stdout",
     "output_type": "stream",
     "text": [
      "0.07\n"
     ]
    }
   ],
   "source": [
    "print(f\"{(empty_model.mse_resid-age_grip_model.mse_resid)/empty_model.mse_resid:.2f}\")"
   ]
  },
  {
   "cell_type": "markdown",
   "metadata": {},
   "source": [
    "# Between-Person Analysis Using Categorical Predictors"
   ]
  },
  {
   "cell_type": "code",
   "execution_count": 45,
   "metadata": {},
   "outputs": [
    {
     "data": {
      "text/plain": [
       "demgroup\n",
       "1.0    399\n",
       "2.0    109\n",
       "3.0     42\n",
       "Name: count, dtype: int64"
      ]
     },
     "execution_count": 45,
     "metadata": {},
     "output_type": "execute_result"
    }
   ],
   "source": [
    "df[\"demgroup\"].value_counts()"
   ]
  },
  {
   "cell_type": "code",
   "execution_count": 79,
   "metadata": {},
   "outputs": [
    {
     "data": {
      "text/html": [
       "<table class=\"simpletable\">\n",
       "<caption>OLS Regression Results</caption>\n",
       "<tr>\n",
       "  <th>Dep. Variable:</th>        <td>cognition</td>    <th>  R-squared:         </th> <td>   0.298</td>\n",
       "</tr>\n",
       "<tr>\n",
       "  <th>Model:</th>                   <td>OLS</td>       <th>  Adj. R-squared:    </th> <td>   0.288</td>\n",
       "</tr>\n",
       "<tr>\n",
       "  <th>Method:</th>             <td>Least Squares</td>  <th>  F-statistic:       </th> <td>   28.77</td>\n",
       "</tr>\n",
       "<tr>\n",
       "  <th>Date:</th>             <td>Mon, 15 Jul 2024</td> <th>  Prob (F-statistic):</th> <td>2.11e-37</td>\n",
       "</tr>\n",
       "<tr>\n",
       "  <th>Time:</th>                 <td>23:54:42</td>     <th>  Log-Likelihood:    </th> <td> -2000.7</td>\n",
       "</tr>\n",
       "<tr>\n",
       "  <th>No. Observations:</th>      <td>   550</td>      <th>  AIC:               </th> <td>   4019.</td>\n",
       "</tr>\n",
       "<tr>\n",
       "  <th>Df Residuals:</th>          <td>   541</td>      <th>  BIC:               </th> <td>   4058.</td>\n",
       "</tr>\n",
       "<tr>\n",
       "  <th>Df Model:</th>              <td>     8</td>      <th>                     </th>     <td> </td>   \n",
       "</tr>\n",
       "<tr>\n",
       "  <th>Covariance Type:</th>      <td>nonrobust</td>    <th>                     </th>     <td> </td>   \n",
       "</tr>\n",
       "</table>\n",
       "<table class=\"simpletable\">\n",
       "<tr>\n",
       "                 <td></td>                   <th>coef</th>     <th>std err</th>      <th>t</th>      <th>P>|t|</th>  <th>[0.025</th>    <th>0.975]</th>  \n",
       "</tr>\n",
       "<tr>\n",
       "  <th>Intercept</th>                      <td>    6.3487</td> <td>    1.948</td> <td>    3.259</td> <td> 0.001</td> <td>    2.522</td> <td>   10.175</td>\n",
       "</tr>\n",
       "<tr>\n",
       "  <th>cat_sex[T.0]</th>                   <td>   10.7507</td> <td>    2.899</td> <td>    3.708</td> <td> 0.000</td> <td>    5.055</td> <td>   16.446</td>\n",
       "</tr>\n",
       "<tr>\n",
       "  <th>cat_dementia[T.1]</th>              <td>   19.8458</td> <td>    2.029</td> <td>    9.783</td> <td> 0.000</td> <td>   15.861</td> <td>   23.831</td>\n",
       "</tr>\n",
       "<tr>\n",
       "  <th>cat_dementia[T.2]</th>              <td>   13.9542</td> <td>    2.239</td> <td>    6.233</td> <td> 0.000</td> <td>    9.556</td> <td>   18.352</td>\n",
       "</tr>\n",
       "<tr>\n",
       "  <th>cat_sex[T.0]:cat_dementia[T.1]</th> <td>   -7.8751</td> <td>    3.025</td> <td>   -2.604</td> <td> 0.009</td> <td>  -13.816</td> <td>   -1.934</td>\n",
       "</tr>\n",
       "<tr>\n",
       "  <th>cat_sex[T.0]:cat_dementia[T.2]</th> <td>   -8.0394</td> <td>    3.415</td> <td>   -2.354</td> <td> 0.019</td> <td>  -14.748</td> <td>   -1.331</td>\n",
       "</tr>\n",
       "<tr>\n",
       "  <th>centered_age</th>                   <td>   -0.3348</td> <td>    0.120</td> <td>   -2.793</td> <td> 0.005</td> <td>   -0.570</td> <td>   -0.099</td>\n",
       "</tr>\n",
       "<tr>\n",
       "  <th>centered_grip</th>                  <td>    0.6179</td> <td>    0.148</td> <td>    4.173</td> <td> 0.000</td> <td>    0.327</td> <td>    0.909</td>\n",
       "</tr>\n",
       "<tr>\n",
       "  <th>centered_age:centered_grip</th>     <td>    0.1222</td> <td>    0.040</td> <td>    3.027</td> <td> 0.003</td> <td>    0.043</td> <td>    0.201</td>\n",
       "</tr>\n",
       "</table>\n",
       "<table class=\"simpletable\">\n",
       "<tr>\n",
       "  <th>Omnibus:</th>       <td> 9.364</td> <th>  Durbin-Watson:     </th> <td>   1.954</td>\n",
       "</tr>\n",
       "<tr>\n",
       "  <th>Prob(Omnibus):</th> <td> 0.009</td> <th>  Jarque-Bera (JB):  </th> <td>   8.073</td>\n",
       "</tr>\n",
       "<tr>\n",
       "  <th>Skew:</th>          <td>-0.226</td> <th>  Prob(JB):          </th> <td>  0.0177</td>\n",
       "</tr>\n",
       "<tr>\n",
       "  <th>Kurtosis:</th>      <td> 2.616</td> <th>  Cond. No.          </th> <td>    149.</td>\n",
       "</tr>\n",
       "</table><br/><br/>Notes:<br/>[1] Standard Errors assume that the covariance matrix of the errors is correctly specified."
      ],
      "text/latex": [
       "\\begin{center}\n",
       "\\begin{tabular}{lclc}\n",
       "\\toprule\n",
       "\\textbf{Dep. Variable:}                   &    cognition     & \\textbf{  R-squared:         } &     0.298   \\\\\n",
       "\\textbf{Model:}                           &       OLS        & \\textbf{  Adj. R-squared:    } &     0.288   \\\\\n",
       "\\textbf{Method:}                          &  Least Squares   & \\textbf{  F-statistic:       } &     28.77   \\\\\n",
       "\\textbf{Date:}                            & Mon, 15 Jul 2024 & \\textbf{  Prob (F-statistic):} &  2.11e-37   \\\\\n",
       "\\textbf{Time:}                            &     23:54:42     & \\textbf{  Log-Likelihood:    } &   -2000.7   \\\\\n",
       "\\textbf{No. Observations:}                &         550      & \\textbf{  AIC:               } &     4019.   \\\\\n",
       "\\textbf{Df Residuals:}                    &         541      & \\textbf{  BIC:               } &     4058.   \\\\\n",
       "\\textbf{Df Model:}                        &           8      & \\textbf{                     } &             \\\\\n",
       "\\textbf{Covariance Type:}                 &    nonrobust     & \\textbf{                     } &             \\\\\n",
       "\\bottomrule\n",
       "\\end{tabular}\n",
       "\\begin{tabular}{lcccccc}\n",
       "                                          & \\textbf{coef} & \\textbf{std err} & \\textbf{t} & \\textbf{P$> |$t$|$} & \\textbf{[0.025} & \\textbf{0.975]}  \\\\\n",
       "\\midrule\n",
       "\\textbf{Intercept}                        &       6.3487  &        1.948     &     3.259  &         0.001        &        2.522    &       10.175     \\\\\n",
       "\\textbf{cat\\_sex[T.0]}                    &      10.7507  &        2.899     &     3.708  &         0.000        &        5.055    &       16.446     \\\\\n",
       "\\textbf{cat\\_dementia[T.1]}               &      19.8458  &        2.029     &     9.783  &         0.000        &       15.861    &       23.831     \\\\\n",
       "\\textbf{cat\\_dementia[T.2]}               &      13.9542  &        2.239     &     6.233  &         0.000        &        9.556    &       18.352     \\\\\n",
       "\\textbf{cat\\_sex[T.0]:cat\\_dementia[T.1]} &      -7.8751  &        3.025     &    -2.604  &         0.009        &      -13.816    &       -1.934     \\\\\n",
       "\\textbf{cat\\_sex[T.0]:cat\\_dementia[T.2]} &      -8.0394  &        3.415     &    -2.354  &         0.019        &      -14.748    &       -1.331     \\\\\n",
       "\\textbf{centered\\_age}                    &      -0.3348  &        0.120     &    -2.793  &         0.005        &       -0.570    &       -0.099     \\\\\n",
       "\\textbf{centered\\_grip}                   &       0.6179  &        0.148     &     4.173  &         0.000        &        0.327    &        0.909     \\\\\n",
       "\\textbf{centered\\_age:centered\\_grip}     &       0.1222  &        0.040     &     3.027  &         0.003        &        0.043    &        0.201     \\\\\n",
       "\\bottomrule\n",
       "\\end{tabular}\n",
       "\\begin{tabular}{lclc}\n",
       "\\textbf{Omnibus:}       &  9.364 & \\textbf{  Durbin-Watson:     } &    1.954  \\\\\n",
       "\\textbf{Prob(Omnibus):} &  0.009 & \\textbf{  Jarque-Bera (JB):  } &    8.073  \\\\\n",
       "\\textbf{Skew:}          & -0.226 & \\textbf{  Prob(JB):          } &   0.0177  \\\\\n",
       "\\textbf{Kurtosis:}      &  2.616 & \\textbf{  Cond. No.          } &     149.  \\\\\n",
       "\\bottomrule\n",
       "\\end{tabular}\n",
       "%\\caption{OLS Regression Results}\n",
       "\\end{center}\n",
       "\n",
       "Notes: \\newline\n",
       " [1] Standard Errors assume that the covariance matrix of the errors is correctly specified."
      ],
      "text/plain": [
       "<class 'statsmodels.iolib.summary.Summary'>\n",
       "\"\"\"\n",
       "                            OLS Regression Results                            \n",
       "==============================================================================\n",
       "Dep. Variable:              cognition   R-squared:                       0.298\n",
       "Model:                            OLS   Adj. R-squared:                  0.288\n",
       "Method:                 Least Squares   F-statistic:                     28.77\n",
       "Date:                Mon, 15 Jul 2024   Prob (F-statistic):           2.11e-37\n",
       "Time:                        23:54:42   Log-Likelihood:                -2000.7\n",
       "No. Observations:                 550   AIC:                             4019.\n",
       "Df Residuals:                     541   BIC:                             4058.\n",
       "Df Model:                           8                                         \n",
       "Covariance Type:            nonrobust                                         \n",
       "==================================================================================================\n",
       "                                     coef    std err          t      P>|t|      [0.025      0.975]\n",
       "--------------------------------------------------------------------------------------------------\n",
       "Intercept                          6.3487      1.948      3.259      0.001       2.522      10.175\n",
       "cat_sex[T.0]                      10.7507      2.899      3.708      0.000       5.055      16.446\n",
       "cat_dementia[T.1]                 19.8458      2.029      9.783      0.000      15.861      23.831\n",
       "cat_dementia[T.2]                 13.9542      2.239      6.233      0.000       9.556      18.352\n",
       "cat_sex[T.0]:cat_dementia[T.1]    -7.8751      3.025     -2.604      0.009     -13.816      -1.934\n",
       "cat_sex[T.0]:cat_dementia[T.2]    -8.0394      3.415     -2.354      0.019     -14.748      -1.331\n",
       "centered_age                      -0.3348      0.120     -2.793      0.005      -0.570      -0.099\n",
       "centered_grip                      0.6179      0.148      4.173      0.000       0.327       0.909\n",
       "centered_age:centered_grip         0.1222      0.040      3.027      0.003       0.043       0.201\n",
       "==============================================================================\n",
       "Omnibus:                        9.364   Durbin-Watson:                   1.954\n",
       "Prob(Omnibus):                  0.009   Jarque-Bera (JB):                8.073\n",
       "Skew:                          -0.226   Prob(JB):                       0.0177\n",
       "Kurtosis:                       2.616   Cond. No.                         149.\n",
       "==============================================================================\n",
       "\n",
       "Notes:\n",
       "[1] Standard Errors assume that the covariance matrix of the errors is correctly specified.\n",
       "\"\"\""
      ]
     },
     "execution_count": 79,
     "metadata": {},
     "output_type": "execute_result"
    }
   ],
   "source": [
    "## \n",
    "sex_categorical = pd.CategoricalDtype(categories=[1,0],ordered=True)\n",
    "dementia_categorical = pd.CategoricalDtype(categories=[3,1,2],ordered=True)\n",
    "\n",
    "df[\"cat_sex\"] = df[\"sexMW\"].astype(sex_categorical)\n",
    "df[\"cat_dementia\"] = df[\"demgroup\"].astype(dementia_categorical)\n",
    "# 1 : 1, 2 : 2, 3 : 0 NO\n",
    "# 1 : 0, 2 : 2, 3 : 1 NO\n",
    "# 1 : 2, 2 : 1, 3 : 0 NO\n",
    "#df[\"cat_dementia\"] = df[\"demgroup\"].map({1:2,2:1,3:0})\n",
    "age_grip_model = statsmodels.formula.api.ols(formula=\"cognition ~ centered_age + centered_grip + centered_age*centered_grip + cat_sex + cat_dementia + centered_age*centered_grip + cat_sex*cat_dementia\", data=df).fit()\n",
    "age_grip_model.summary()"
   ]
  },
  {
   "cell_type": "code",
   "execution_count": 69,
   "metadata": {},
   "outputs": [
    {
     "data": {
      "text/html": [
       "<div>\n",
       "<style scoped>\n",
       "    .dataframe tbody tr th:only-of-type {\n",
       "        vertical-align: middle;\n",
       "    }\n",
       "\n",
       "    .dataframe tbody tr th {\n",
       "        vertical-align: top;\n",
       "    }\n",
       "\n",
       "    .dataframe thead th {\n",
       "        text-align: right;\n",
       "    }\n",
       "</style>\n",
       "<table border=\"1\" class=\"dataframe\">\n",
       "  <thead>\n",
       "    <tr style=\"text-align: right;\">\n",
       "      <th></th>\n",
       "      <th>df</th>\n",
       "      <th>sum_sq</th>\n",
       "      <th>mean_sq</th>\n",
       "      <th>F</th>\n",
       "      <th>PR(&gt;F)</th>\n",
       "    </tr>\n",
       "  </thead>\n",
       "  <tbody>\n",
       "    <tr>\n",
       "      <th>C(cat_sex)</th>\n",
       "      <td>1.0</td>\n",
       "      <td>3701.363784</td>\n",
       "      <td>3701.363784</td>\n",
       "      <td>43.052923</td>\n",
       "      <td>1.248467e-10</td>\n",
       "    </tr>\n",
       "    <tr>\n",
       "      <th>C(cat_dementia)</th>\n",
       "      <td>2.0</td>\n",
       "      <td>11683.820315</td>\n",
       "      <td>5841.910157</td>\n",
       "      <td>67.950983</td>\n",
       "      <td>4.705848e-27</td>\n",
       "    </tr>\n",
       "    <tr>\n",
       "      <th>C(cat_sex):C(cat_dementia)</th>\n",
       "      <td>2.0</td>\n",
       "      <td>621.962400</td>\n",
       "      <td>310.981200</td>\n",
       "      <td>3.617221</td>\n",
       "      <td>2.750881e-02</td>\n",
       "    </tr>\n",
       "    <tr>\n",
       "      <th>centered_age</th>\n",
       "      <td>1.0</td>\n",
       "      <td>1564.232502</td>\n",
       "      <td>1564.232502</td>\n",
       "      <td>18.194586</td>\n",
       "      <td>2.354246e-05</td>\n",
       "    </tr>\n",
       "    <tr>\n",
       "      <th>centered_grip</th>\n",
       "      <td>1.0</td>\n",
       "      <td>1426.295716</td>\n",
       "      <td>1426.295716</td>\n",
       "      <td>16.590155</td>\n",
       "      <td>5.333268e-05</td>\n",
       "    </tr>\n",
       "    <tr>\n",
       "      <th>centered_age:centered_grip</th>\n",
       "      <td>1.0</td>\n",
       "      <td>787.786754</td>\n",
       "      <td>787.786754</td>\n",
       "      <td>9.163250</td>\n",
       "      <td>2.586842e-03</td>\n",
       "    </tr>\n",
       "    <tr>\n",
       "      <th>Residual</th>\n",
       "      <td>541.0</td>\n",
       "      <td>46511.076711</td>\n",
       "      <td>85.972415</td>\n",
       "      <td>NaN</td>\n",
       "      <td>NaN</td>\n",
       "    </tr>\n",
       "  </tbody>\n",
       "</table>\n",
       "</div>"
      ],
      "text/plain": [
       "                               df        sum_sq      mean_sq          F  \\\n",
       "C(cat_sex)                    1.0   3701.363784  3701.363784  43.052923   \n",
       "C(cat_dementia)               2.0  11683.820315  5841.910157  67.950983   \n",
       "C(cat_sex):C(cat_dementia)    2.0    621.962400   310.981200   3.617221   \n",
       "centered_age                  1.0   1564.232502  1564.232502  18.194586   \n",
       "centered_grip                 1.0   1426.295716  1426.295716  16.590155   \n",
       "centered_age:centered_grip    1.0    787.786754   787.786754   9.163250   \n",
       "Residual                    541.0  46511.076711    85.972415        NaN   \n",
       "\n",
       "                                  PR(>F)  \n",
       "C(cat_sex)                  1.248467e-10  \n",
       "C(cat_dementia)             4.705848e-27  \n",
       "C(cat_sex):C(cat_dementia)  2.750881e-02  \n",
       "centered_age                2.354246e-05  \n",
       "centered_grip               5.333268e-05  \n",
       "centered_age:centered_grip  2.586842e-03  \n",
       "Residual                             NaN  "
      ]
     },
     "execution_count": 69,
     "metadata": {},
     "output_type": "execute_result"
    }
   ],
   "source": [
    "statsmodels.stats.anova.anova_lm(age_grip_model)"
   ]
  },
  {
   "cell_type": "code",
   "execution_count": 80,
   "metadata": {},
   "outputs": [
    {
     "data": {
      "text/plain": [
       "<class 'statsmodels.stats.contrast.WaldTestResults'>\n",
       "                                    F           P>F  df constraint  df denom\n",
       "Intercept                   10.623021  1.187067e-03              1     541.0\n",
       "cat_sex                     13.749273  2.304491e-04              1     541.0\n",
       "cat_dementia                53.157317  8.377946e-22              2     541.0\n",
       "cat_sex:cat_dementia         3.491936  3.112981e-02              2     541.0\n",
       "centered_age                 7.798652  5.413560e-03              1     541.0\n",
       "centered_grip               17.411527  3.506457e-05              1     541.0\n",
       "centered_age:centered_grip   9.163250  2.586842e-03              1     541.0"
      ]
     },
     "execution_count": 80,
     "metadata": {},
     "output_type": "execute_result"
    }
   ],
   "source": [
    "age_grip_model.wald_test_terms(scalar=True)"
   ]
  }
 ],
 "metadata": {
  "kernelspec": {
   "display_name": "long-venv",
   "language": "python",
   "name": "python3"
  },
  "language_info": {
   "codemirror_mode": {
    "name": "ipython",
    "version": 3
   },
   "file_extension": ".py",
   "mimetype": "text/x-python",
   "name": "python",
   "nbconvert_exporter": "python",
   "pygments_lexer": "ipython3",
   "version": "3.12.4"
  }
 },
 "nbformat": 4,
 "nbformat_minor": 2
}
