{
 "cells": [
  {
   "cell_type": "markdown",
   "metadata": {},
   "source": [
    "# Chapter 2\n",
    "Chapter 2 focuses on the introduction of between-person analysis. The data used in this example are a subset of the [Octogenarian Twin Study of Aging](https://www.maelstrom-research.org/study/octo-twin) dataset. They consist of data from 550 older adults, for which the following measurements were collected:\n",
    "- age\n",
    "- cognition (assessed with the Information Test)\n",
    "- grip strength\n",
    "- sex\n",
    "- dementia diagnosis\n",
    "\n",
    "A review of general linear models (GLM) and Analysis of Variance (ANOVA) methods is provided in this chapter, with a particular focus on the interpretation of interactions among continuous and categorical predictors."
   ]
  },
  {
   "cell_type": "markdown",
   "metadata": {},
   "source": [
    "## Import packages"
   ]
  },
  {
   "cell_type": "code",
   "execution_count": 1,
   "metadata": {},
   "outputs": [],
   "source": [
    "import math\n",
    "import os\n",
    "\n",
    "import pandas as pd\n",
    "from sas7bdat import SAS7BDAT\n",
    "import scipy.stats\n",
    "import statsmodels.formula.api\n",
    "import statsmodels.stats.anova"
   ]
  },
  {
   "cell_type": "markdown",
   "metadata": {},
   "source": [
    "## Constants"
   ]
  },
  {
   "cell_type": "code",
   "execution_count": 2,
   "metadata": {},
   "outputs": [],
   "source": [
    "# File paths\n",
    "FILE_PATH = os.path.join(\"Data\", \"SAS_Chapter2.sas7bdat\")\n",
    "\n",
    "# File columns\n",
    "AGE_COL = \"age\"\n",
    "COGNITION_COL = \"cognition\"\n",
    "GRIP_COL = \"grip\"\n",
    "SEX_COL = \"sexMW\"\n",
    "DEMENTIA_GROUP_COL = \"demgroup\""
   ]
  },
  {
   "cell_type": "markdown",
   "metadata": {},
   "source": [
    "## Read data"
   ]
  },
  {
   "cell_type": "code",
   "execution_count": 3,
   "metadata": {},
   "outputs": [],
   "source": [
    "with SAS7BDAT(FILE_PATH, skip_header=False) as reader:\n",
    "    df = reader.to_data_frame()"
   ]
  },
  {
   "cell_type": "markdown",
   "metadata": {},
   "source": [
    "# Between-Person Empty Model\n",
    "Let's now start our review of between-person analysis methods using an empty model, that does not use any predictor to predict cognition:\n",
    "\n",
    "$\n",
    "y_i = \\beta_0 + e_i\n",
    "$\n",
    "\n",
    "The only parameter that our model needs to determine is the intercept $\\beta_0$."
   ]
  },
  {
   "cell_type": "code",
   "execution_count": 4,
   "metadata": {},
   "outputs": [
    {
     "data": {
      "text/html": [
       "<table class=\"simpletable\">\n",
       "<caption>OLS Regression Results</caption>\n",
       "<tr>\n",
       "  <th>Dep. Variable:</th>        <td>cognition</td>    <th>  R-squared:         </th> <td>  -0.000</td>\n",
       "</tr>\n",
       "<tr>\n",
       "  <th>Model:</th>                   <td>OLS</td>       <th>  Adj. R-squared:    </th> <td>  -0.000</td>\n",
       "</tr>\n",
       "<tr>\n",
       "  <th>Method:</th>             <td>Least Squares</td>  <th>  F-statistic:       </th> <td>     nan</td>\n",
       "</tr>\n",
       "<tr>\n",
       "  <th>Date:</th>             <td>Tue, 13 Aug 2024</td> <th>  Prob (F-statistic):</th>  <td>   nan</td> \n",
       "</tr>\n",
       "<tr>\n",
       "  <th>Time:</th>                 <td>14:02:03</td>     <th>  Log-Likelihood:    </th> <td> -2098.2</td>\n",
       "</tr>\n",
       "<tr>\n",
       "  <th>No. Observations:</th>      <td>   550</td>      <th>  AIC:               </th> <td>   4198.</td>\n",
       "</tr>\n",
       "<tr>\n",
       "  <th>Df Residuals:</th>          <td>   549</td>      <th>  BIC:               </th> <td>   4203.</td>\n",
       "</tr>\n",
       "<tr>\n",
       "  <th>Df Model:</th>              <td>     0</td>      <th>                     </th>     <td> </td>   \n",
       "</tr>\n",
       "<tr>\n",
       "  <th>Covariance Type:</th>      <td>nonrobust</td>    <th>                     </th>     <td> </td>   \n",
       "</tr>\n",
       "</table>\n",
       "<table class=\"simpletable\">\n",
       "<tr>\n",
       "      <td></td>         <th>coef</th>     <th>std err</th>      <th>t</th>      <th>P>|t|</th>  <th>[0.025</th>    <th>0.975]</th>  \n",
       "</tr>\n",
       "<tr>\n",
       "  <th>Intercept</th> <td>   24.8218</td> <td>    0.469</td> <td>   52.973</td> <td> 0.000</td> <td>   23.901</td> <td>   25.742</td>\n",
       "</tr>\n",
       "</table>\n",
       "<table class=\"simpletable\">\n",
       "<tr>\n",
       "  <th>Omnibus:</th>       <td>23.202</td> <th>  Durbin-Watson:     </th> <td>   1.985</td>\n",
       "</tr>\n",
       "<tr>\n",
       "  <th>Prob(Omnibus):</th> <td> 0.000</td> <th>  Jarque-Bera (JB):  </th> <td>  14.625</td>\n",
       "</tr>\n",
       "<tr>\n",
       "  <th>Skew:</th>          <td>-0.260</td> <th>  Prob(JB):          </th> <td>0.000667</td>\n",
       "</tr>\n",
       "<tr>\n",
       "  <th>Kurtosis:</th>      <td> 2.393</td> <th>  Cond. No.          </th> <td>    1.00</td>\n",
       "</tr>\n",
       "</table><br/><br/>Notes:<br/>[1] Standard Errors assume that the covariance matrix of the errors is correctly specified."
      ],
      "text/latex": [
       "\\begin{center}\n",
       "\\begin{tabular}{lclc}\n",
       "\\toprule\n",
       "\\textbf{Dep. Variable:}    &    cognition     & \\textbf{  R-squared:         } &    -0.000   \\\\\n",
       "\\textbf{Model:}            &       OLS        & \\textbf{  Adj. R-squared:    } &    -0.000   \\\\\n",
       "\\textbf{Method:}           &  Least Squares   & \\textbf{  F-statistic:       } &       nan   \\\\\n",
       "\\textbf{Date:}             & Tue, 13 Aug 2024 & \\textbf{  Prob (F-statistic):} &      nan    \\\\\n",
       "\\textbf{Time:}             &     14:02:03     & \\textbf{  Log-Likelihood:    } &   -2098.2   \\\\\n",
       "\\textbf{No. Observations:} &         550      & \\textbf{  AIC:               } &     4198.   \\\\\n",
       "\\textbf{Df Residuals:}     &         549      & \\textbf{  BIC:               } &     4203.   \\\\\n",
       "\\textbf{Df Model:}         &           0      & \\textbf{                     } &             \\\\\n",
       "\\textbf{Covariance Type:}  &    nonrobust     & \\textbf{                     } &             \\\\\n",
       "\\bottomrule\n",
       "\\end{tabular}\n",
       "\\begin{tabular}{lcccccc}\n",
       "                   & \\textbf{coef} & \\textbf{std err} & \\textbf{t} & \\textbf{P$> |$t$|$} & \\textbf{[0.025} & \\textbf{0.975]}  \\\\\n",
       "\\midrule\n",
       "\\textbf{Intercept} &      24.8218  &        0.469     &    52.973  &         0.000        &       23.901    &       25.742     \\\\\n",
       "\\bottomrule\n",
       "\\end{tabular}\n",
       "\\begin{tabular}{lclc}\n",
       "\\textbf{Omnibus:}       & 23.202 & \\textbf{  Durbin-Watson:     } &    1.985  \\\\\n",
       "\\textbf{Prob(Omnibus):} &  0.000 & \\textbf{  Jarque-Bera (JB):  } &   14.625  \\\\\n",
       "\\textbf{Skew:}          & -0.260 & \\textbf{  Prob(JB):          } & 0.000667  \\\\\n",
       "\\textbf{Kurtosis:}      &  2.393 & \\textbf{  Cond. No.          } &     1.00  \\\\\n",
       "\\bottomrule\n",
       "\\end{tabular}\n",
       "%\\caption{OLS Regression Results}\n",
       "\\end{center}\n",
       "\n",
       "Notes: \\newline\n",
       " [1] Standard Errors assume that the covariance matrix of the errors is correctly specified."
      ],
      "text/plain": [
       "<class 'statsmodels.iolib.summary.Summary'>\n",
       "\"\"\"\n",
       "                            OLS Regression Results                            \n",
       "==============================================================================\n",
       "Dep. Variable:              cognition   R-squared:                      -0.000\n",
       "Model:                            OLS   Adj. R-squared:                 -0.000\n",
       "Method:                 Least Squares   F-statistic:                       nan\n",
       "Date:                Tue, 13 Aug 2024   Prob (F-statistic):                nan\n",
       "Time:                        14:02:03   Log-Likelihood:                -2098.2\n",
       "No. Observations:                 550   AIC:                             4198.\n",
       "Df Residuals:                     549   BIC:                             4203.\n",
       "Df Model:                           0                                         \n",
       "Covariance Type:            nonrobust                                         \n",
       "==============================================================================\n",
       "                 coef    std err          t      P>|t|      [0.025      0.975]\n",
       "------------------------------------------------------------------------------\n",
       "Intercept     24.8218      0.469     52.973      0.000      23.901      25.742\n",
       "==============================================================================\n",
       "Omnibus:                       23.202   Durbin-Watson:                   1.985\n",
       "Prob(Omnibus):                  0.000   Jarque-Bera (JB):               14.625\n",
       "Skew:                          -0.260   Prob(JB):                     0.000667\n",
       "Kurtosis:                       2.393   Cond. No.                         1.00\n",
       "==============================================================================\n",
       "\n",
       "Notes:\n",
       "[1] Standard Errors assume that the covariance matrix of the errors is correctly specified.\n",
       "\"\"\""
      ]
     },
     "execution_count": 4,
     "metadata": {},
     "output_type": "execute_result"
    }
   ],
   "source": [
    "empty_model = statsmodels.formula.api.ols(formula=\"cognition ~ 1\", data=df).fit()\n",
    "empty_model.summary()"
   ]
  },
  {
   "cell_type": "markdown",
   "metadata": {},
   "source": [
    "As we can see from the results above, the intercept (`24.82`) corresponds to the grand total mean of cognition across all the dataset:"
   ]
  },
  {
   "cell_type": "code",
   "execution_count": 5,
   "metadata": {},
   "outputs": [
    {
     "name": "stdout",
     "output_type": "stream",
     "text": [
      "Grand mean for cognition: 24.82\n",
      "Intercept of the empty model: 24.82\n"
     ]
    }
   ],
   "source": [
    "print(f\"Grand mean for cognition: {df[COGNITION_COL].mean():.2f}\")\n",
    "print(f\"Intercept of the empty model: {empty_model.params.loc[\"Intercept\"]:.2f}\")"
   ]
  },
  {
   "cell_type": "markdown",
   "metadata": {},
   "source": [
    "The variance of the residuals is computed as:\n",
    "\n",
    "$\n",
    "\\sigma_e^2 = \\frac{\\sum_{i=1}^N\\left(y_i-\\hat{y_i}^2\\right)}{N-k}\n",
    "$\n",
    "\n",
    "where $N$ is the total number of samples, $k$ is the number of effects (1 in this case, since we only have the intercept).\n",
    "\n",
    "With `statsmodels`, we can retrieve the residual variance by accessing ``empty_model.mse_resid``, and for the empty model it corresponds to 120.76."
   ]
  },
  {
   "cell_type": "code",
   "execution_count": 6,
   "metadata": {},
   "outputs": [
    {
     "name": "stdout",
     "output_type": "stream",
     "text": [
      "Residual variance for the empty model: 120.76\n"
     ]
    }
   ],
   "source": [
    "print(f\"Residual variance for the empty model: {empty_model.mse_resid:.2f}\")"
   ]
  },
  {
   "cell_type": "markdown",
   "metadata": {},
   "source": [
    "# Between-Person Analysis Using Continuous Predictors"
   ]
  },
  {
   "cell_type": "markdown",
   "metadata": {},
   "source": [
    "## Age\n",
    "We expect age to be a good predictor of cognition, with a decrease in cognition as age progresses. We can then build a model that uses age to predict the cognition. \n",
    "\n",
    "Since the samples of our dataset contain data from people with age > 80, we need to center the age predictor in order to have a meaningful 0 value: we will use 85 as a 0 value.\n",
    "We substract this value to create a new variable named `centered_age`, and we will use it in our models."
   ]
  },
  {
   "cell_type": "code",
   "execution_count": 7,
   "metadata": {},
   "outputs": [],
   "source": [
    "CENTERED_AGE_COL = \"centered_age\"\n",
    "df[CENTERED_AGE_COL] = df[AGE_COL] - 85"
   ]
  },
  {
   "cell_type": "markdown",
   "metadata": {},
   "source": [
    "Let's now fit the model using centered_age as a predictor."
   ]
  },
  {
   "cell_type": "code",
   "execution_count": 8,
   "metadata": {},
   "outputs": [
    {
     "data": {
      "text/html": [
       "<table class=\"simpletable\">\n",
       "<caption>OLS Regression Results</caption>\n",
       "<tr>\n",
       "  <th>Dep. Variable:</th>        <td>cognition</td>    <th>  R-squared:         </th> <td>   0.029</td>\n",
       "</tr>\n",
       "<tr>\n",
       "  <th>Model:</th>                   <td>OLS</td>       <th>  Adj. R-squared:    </th> <td>   0.027</td>\n",
       "</tr>\n",
       "<tr>\n",
       "  <th>Method:</th>             <td>Least Squares</td>  <th>  F-statistic:       </th> <td>   16.40</td>\n",
       "</tr>\n",
       "<tr>\n",
       "  <th>Date:</th>             <td>Tue, 13 Aug 2024</td> <th>  Prob (F-statistic):</th> <td>5.87e-05</td>\n",
       "</tr>\n",
       "<tr>\n",
       "  <th>Time:</th>                 <td>14:02:03</td>     <th>  Log-Likelihood:    </th> <td> -2090.1</td>\n",
       "</tr>\n",
       "<tr>\n",
       "  <th>No. Observations:</th>      <td>   550</td>      <th>  AIC:               </th> <td>   4184.</td>\n",
       "</tr>\n",
       "<tr>\n",
       "  <th>Df Residuals:</th>          <td>   548</td>      <th>  BIC:               </th> <td>   4193.</td>\n",
       "</tr>\n",
       "<tr>\n",
       "  <th>Df Model:</th>              <td>     1</td>      <th>                     </th>     <td> </td>   \n",
       "</tr>\n",
       "<tr>\n",
       "  <th>Covariance Type:</th>      <td>nonrobust</td>    <th>                     </th>     <td> </td>   \n",
       "</tr>\n",
       "</table>\n",
       "<table class=\"simpletable\">\n",
       "<tr>\n",
       "        <td></td>          <th>coef</th>     <th>std err</th>      <th>t</th>      <th>P>|t|</th>  <th>[0.025</th>    <th>0.975]</th>  \n",
       "</tr>\n",
       "<tr>\n",
       "  <th>Intercept</th>    <td>   24.7818</td> <td>    0.462</td> <td>   53.612</td> <td> 0.000</td> <td>   23.874</td> <td>   25.690</td>\n",
       "</tr>\n",
       "<tr>\n",
       "  <th>centered_age</th> <td>   -0.5461</td> <td>    0.135</td> <td>   -4.049</td> <td> 0.000</td> <td>   -0.811</td> <td>   -0.281</td>\n",
       "</tr>\n",
       "</table>\n",
       "<table class=\"simpletable\">\n",
       "<tr>\n",
       "  <th>Omnibus:</th>       <td>19.700</td> <th>  Durbin-Watson:     </th> <td>   1.999</td>\n",
       "</tr>\n",
       "<tr>\n",
       "  <th>Prob(Omnibus):</th> <td> 0.000</td> <th>  Jarque-Bera (JB):  </th> <td>  12.788</td>\n",
       "</tr>\n",
       "<tr>\n",
       "  <th>Skew:</th>          <td>-0.238</td> <th>  Prob(JB):          </th> <td> 0.00167</td>\n",
       "</tr>\n",
       "<tr>\n",
       "  <th>Kurtosis:</th>      <td> 2.425</td> <th>  Cond. No.          </th> <td>    3.43</td>\n",
       "</tr>\n",
       "</table><br/><br/>Notes:<br/>[1] Standard Errors assume that the covariance matrix of the errors is correctly specified."
      ],
      "text/latex": [
       "\\begin{center}\n",
       "\\begin{tabular}{lclc}\n",
       "\\toprule\n",
       "\\textbf{Dep. Variable:}    &    cognition     & \\textbf{  R-squared:         } &     0.029   \\\\\n",
       "\\textbf{Model:}            &       OLS        & \\textbf{  Adj. R-squared:    } &     0.027   \\\\\n",
       "\\textbf{Method:}           &  Least Squares   & \\textbf{  F-statistic:       } &     16.40   \\\\\n",
       "\\textbf{Date:}             & Tue, 13 Aug 2024 & \\textbf{  Prob (F-statistic):} &  5.87e-05   \\\\\n",
       "\\textbf{Time:}             &     14:02:03     & \\textbf{  Log-Likelihood:    } &   -2090.1   \\\\\n",
       "\\textbf{No. Observations:} &         550      & \\textbf{  AIC:               } &     4184.   \\\\\n",
       "\\textbf{Df Residuals:}     &         548      & \\textbf{  BIC:               } &     4193.   \\\\\n",
       "\\textbf{Df Model:}         &           1      & \\textbf{                     } &             \\\\\n",
       "\\textbf{Covariance Type:}  &    nonrobust     & \\textbf{                     } &             \\\\\n",
       "\\bottomrule\n",
       "\\end{tabular}\n",
       "\\begin{tabular}{lcccccc}\n",
       "                       & \\textbf{coef} & \\textbf{std err} & \\textbf{t} & \\textbf{P$> |$t$|$} & \\textbf{[0.025} & \\textbf{0.975]}  \\\\\n",
       "\\midrule\n",
       "\\textbf{Intercept}     &      24.7818  &        0.462     &    53.612  &         0.000        &       23.874    &       25.690     \\\\\n",
       "\\textbf{centered\\_age} &      -0.5461  &        0.135     &    -4.049  &         0.000        &       -0.811    &       -0.281     \\\\\n",
       "\\bottomrule\n",
       "\\end{tabular}\n",
       "\\begin{tabular}{lclc}\n",
       "\\textbf{Omnibus:}       & 19.700 & \\textbf{  Durbin-Watson:     } &    1.999  \\\\\n",
       "\\textbf{Prob(Omnibus):} &  0.000 & \\textbf{  Jarque-Bera (JB):  } &   12.788  \\\\\n",
       "\\textbf{Skew:}          & -0.238 & \\textbf{  Prob(JB):          } &  0.00167  \\\\\n",
       "\\textbf{Kurtosis:}      &  2.425 & \\textbf{  Cond. No.          } &     3.43  \\\\\n",
       "\\bottomrule\n",
       "\\end{tabular}\n",
       "%\\caption{OLS Regression Results}\n",
       "\\end{center}\n",
       "\n",
       "Notes: \\newline\n",
       " [1] Standard Errors assume that the covariance matrix of the errors is correctly specified."
      ],
      "text/plain": [
       "<class 'statsmodels.iolib.summary.Summary'>\n",
       "\"\"\"\n",
       "                            OLS Regression Results                            \n",
       "==============================================================================\n",
       "Dep. Variable:              cognition   R-squared:                       0.029\n",
       "Model:                            OLS   Adj. R-squared:                  0.027\n",
       "Method:                 Least Squares   F-statistic:                     16.40\n",
       "Date:                Tue, 13 Aug 2024   Prob (F-statistic):           5.87e-05\n",
       "Time:                        14:02:03   Log-Likelihood:                -2090.1\n",
       "No. Observations:                 550   AIC:                             4184.\n",
       "Df Residuals:                     548   BIC:                             4193.\n",
       "Df Model:                           1                                         \n",
       "Covariance Type:            nonrobust                                         \n",
       "================================================================================\n",
       "                   coef    std err          t      P>|t|      [0.025      0.975]\n",
       "--------------------------------------------------------------------------------\n",
       "Intercept       24.7818      0.462     53.612      0.000      23.874      25.690\n",
       "centered_age    -0.5461      0.135     -4.049      0.000      -0.811      -0.281\n",
       "==============================================================================\n",
       "Omnibus:                       19.700   Durbin-Watson:                   1.999\n",
       "Prob(Omnibus):                  0.000   Jarque-Bera (JB):               12.788\n",
       "Skew:                          -0.238   Prob(JB):                      0.00167\n",
       "Kurtosis:                       2.425   Cond. No.                         3.43\n",
       "==============================================================================\n",
       "\n",
       "Notes:\n",
       "[1] Standard Errors assume that the covariance matrix of the errors is correctly specified.\n",
       "\"\"\""
      ]
     },
     "execution_count": 8,
     "metadata": {},
     "output_type": "execute_result"
    }
   ],
   "source": [
    "age_model = statsmodels.formula.api.ols(formula=f\"{COGNITION_COL} ~ {CENTERED_AGE_COL}\", data=df).fit()\n",
    "age_model.summary()"
   ]
  },
  {
   "cell_type": "markdown",
   "metadata": {},
   "source": [
    "The coefficient for centered_age is equal to -0.5461, and as expected it is a negative coefficient, meaning that there is a decline in cognition as age progresses. In particular, for a one-unit change in age, there is an expected decrease in cognition of -0.5461.\n",
    "\n",
    "The intercept value (now equal to 24.7818) corresponds to the expected cognition value for a person with 85 years old, since our 0 is now 85 years\n",
    "\n",
    "The $R^2$ of the model that uses age as a unique predictor is 0.03. Another way to get to the same value it's by computing the relative change in residual variance with respect to the empty model:\n",
    "\n",
    "```\n",
    "(age_model.mse_resid - empty_model.mse_resid)/empty_model.mse_resid\n",
    "```\n"
   ]
  },
  {
   "cell_type": "code",
   "execution_count": 9,
   "metadata": {},
   "outputs": [
    {
     "name": "stdout",
     "output_type": "stream",
     "text": [
      "0.03\n"
     ]
    }
   ],
   "source": [
    "print(f\"{(empty_model.mse_resid-age_model.mse_resid)/empty_model.mse_resid:.2f}\")"
   ]
  },
  {
   "cell_type": "markdown",
   "metadata": {},
   "source": [
    "In order to determine if the age coefficient is significat, we need to compute the standard error for the coefficient. The standard error for a coefficient is defined as:\n",
    "\n",
    "$\n",
    "SE_{\\beta_X} = \\sqrt{\\frac{Var(y_i)*(1-R_Y^2)}{Var(x_i)*(1-R_x^2)*(N-k)}}\n",
    "$\n",
    "\n",
    "Thus, the standard error ($SE$) for a predictor depends on the amount of variance in the outcome variable that is still remaining in the model"
   ]
  },
  {
   "cell_type": "code",
   "execution_count": 10,
   "metadata": {},
   "outputs": [
    {
     "name": "stdout",
     "output_type": "stream",
     "text": [
      "SE: 0.135\n"
     ]
    }
   ],
   "source": [
    "# SE numerator\n",
    "se_num = df[COGNITION_COL].std()**2*(1-((empty_model.mse_resid-age_model.mse_resid)/empty_model.mse_resid))\n",
    "# SE denominator\n",
    "se_den = (df[AGE_COL].std()**2)*(1-0)*(len(df)-1)\n",
    "# Compute SE\n",
    "se = math.sqrt(se_num/se_den)\n",
    "print(f\"SE: {se:.3f}\")"
   ]
  },
  {
   "cell_type": "markdown",
   "metadata": {},
   "source": [
    "In order to determine if the slope is significantly different from $0$, we can run what it's called a Wald test. We compute the ratio between the coefficient and its standard error (SE), and compare it a t-distribution to determine if the age slope is different from 0."
   ]
  },
  {
   "cell_type": "code",
   "execution_count": 11,
   "metadata": {},
   "outputs": [
    {
     "name": "stdout",
     "output_type": "stream",
     "text": [
      "t-statistic: -4.0494\n"
     ]
    }
   ],
   "source": [
    "t_statistic = age_model.params.loc[CENTERED_AGE_COL]/se\n",
    "print(f\"t-statistic: {t_statistic:.4f}\")"
   ]
  },
  {
   "cell_type": "code",
   "execution_count": 12,
   "metadata": {},
   "outputs": [
    {
     "name": "stdout",
     "output_type": "stream",
     "text": [
      "True\n"
     ]
    }
   ],
   "source": [
    "critical_value = scipy.stats.t.ppf(0.025,len(df)-2)\n",
    "print(t_statistic < critical_value)"
   ]
  },
  {
   "cell_type": "markdown",
   "metadata": {},
   "source": [
    "We can also determine the confidence interval for the estimate of the coefficient, defined as $\\beta_1\\pm1.96*SE$:"
   ]
  },
  {
   "cell_type": "code",
   "execution_count": 13,
   "metadata": {},
   "outputs": [
    {
     "name": "stdout",
     "output_type": "stream",
     "text": [
      "Age coefficient CI: (-0.8104,-0.2818)\n"
     ]
    }
   ],
   "source": [
    "print(f\"Age coefficient CI: ({age_model.params.loc[CENTERED_AGE_COL]-1.96*se:.4f},{age_model.params.loc[CENTERED_AGE_COL]+1.96*se:.4f})\")"
   ]
  },
  {
   "cell_type": "markdown",
   "metadata": {},
   "source": [
    "## Age and Grip\n",
    "In addition to age, we can include another predictor in the model that is the grip strength. Similar to what we did for age, we need to properly center the grip strength. Since we have a mean of around 9 pounds, we use this value as a center point. Now, our model looks like this:\n",
    "\n",
    "$\n",
    "Cognition_i = \\beta_0 + \\beta_1(Age_i-85)+\\beta_2(Grip_i-9)+e_i\n",
    "$"
   ]
  },
  {
   "cell_type": "code",
   "execution_count": 14,
   "metadata": {},
   "outputs": [],
   "source": [
    "CENTERED_GRIP_COL = \"centered_grip\"\n",
    "df[CENTERED_GRIP_COL] = df[GRIP_COL] - 9"
   ]
  },
  {
   "cell_type": "code",
   "execution_count": 15,
   "metadata": {},
   "outputs": [
    {
     "data": {
      "text/html": [
       "<table class=\"simpletable\">\n",
       "<caption>OLS Regression Results</caption>\n",
       "<tr>\n",
       "  <th>Dep. Variable:</th>        <td>cognition</td>    <th>  R-squared:         </th> <td>   0.075</td>\n",
       "</tr>\n",
       "<tr>\n",
       "  <th>Model:</th>                   <td>OLS</td>       <th>  Adj. R-squared:    </th> <td>   0.072</td>\n",
       "</tr>\n",
       "<tr>\n",
       "  <th>Method:</th>             <td>Least Squares</td>  <th>  F-statistic:       </th> <td>   22.14</td>\n",
       "</tr>\n",
       "<tr>\n",
       "  <th>Date:</th>             <td>Tue, 13 Aug 2024</td> <th>  Prob (F-statistic):</th> <td>5.66e-10</td>\n",
       "</tr>\n",
       "<tr>\n",
       "  <th>Time:</th>                 <td>14:02:03</td>     <th>  Log-Likelihood:    </th> <td> -2076.8</td>\n",
       "</tr>\n",
       "<tr>\n",
       "  <th>No. Observations:</th>      <td>   550</td>      <th>  AIC:               </th> <td>   4160.</td>\n",
       "</tr>\n",
       "<tr>\n",
       "  <th>Df Residuals:</th>          <td>   547</td>      <th>  BIC:               </th> <td>   4173.</td>\n",
       "</tr>\n",
       "<tr>\n",
       "  <th>Df Model:</th>              <td>     2</td>      <th>                     </th>     <td> </td>   \n",
       "</tr>\n",
       "<tr>\n",
       "  <th>Covariance Type:</th>      <td>nonrobust</td>    <th>                     </th>     <td> </td>   \n",
       "</tr>\n",
       "</table>\n",
       "<table class=\"simpletable\">\n",
       "<tr>\n",
       "        <td></td>           <th>coef</th>     <th>std err</th>      <th>t</th>      <th>P>|t|</th>  <th>[0.025</th>    <th>0.975]</th>  \n",
       "</tr>\n",
       "<tr>\n",
       "  <th>Intercept</th>     <td>   24.7008</td> <td>    0.452</td> <td>   54.662</td> <td> 0.000</td> <td>   23.813</td> <td>   25.588</td>\n",
       "</tr>\n",
       "<tr>\n",
       "  <th>centered_age</th>  <td>   -0.4176</td> <td>    0.134</td> <td>   -3.115</td> <td> 0.002</td> <td>   -0.681</td> <td>   -0.154</td>\n",
       "</tr>\n",
       "<tr>\n",
       "  <th>centered_grip</th> <td>    0.8025</td> <td>    0.154</td> <td>    5.206</td> <td> 0.000</td> <td>    0.500</td> <td>    1.105</td>\n",
       "</tr>\n",
       "</table>\n",
       "<table class=\"simpletable\">\n",
       "<tr>\n",
       "  <th>Omnibus:</th>       <td>17.496</td> <th>  Durbin-Watson:     </th> <td>   1.992</td>\n",
       "</tr>\n",
       "<tr>\n",
       "  <th>Prob(Omnibus):</th> <td> 0.000</td> <th>  Jarque-Bera (JB):  </th> <td>  12.268</td>\n",
       "</tr>\n",
       "<tr>\n",
       "  <th>Skew:</th>          <td>-0.248</td> <th>  Prob(JB):          </th> <td> 0.00217</td>\n",
       "</tr>\n",
       "<tr>\n",
       "  <th>Kurtosis:</th>      <td> 2.462</td> <th>  Cond. No.          </th> <td>    3.57</td>\n",
       "</tr>\n",
       "</table><br/><br/>Notes:<br/>[1] Standard Errors assume that the covariance matrix of the errors is correctly specified."
      ],
      "text/latex": [
       "\\begin{center}\n",
       "\\begin{tabular}{lclc}\n",
       "\\toprule\n",
       "\\textbf{Dep. Variable:}    &    cognition     & \\textbf{  R-squared:         } &     0.075   \\\\\n",
       "\\textbf{Model:}            &       OLS        & \\textbf{  Adj. R-squared:    } &     0.072   \\\\\n",
       "\\textbf{Method:}           &  Least Squares   & \\textbf{  F-statistic:       } &     22.14   \\\\\n",
       "\\textbf{Date:}             & Tue, 13 Aug 2024 & \\textbf{  Prob (F-statistic):} &  5.66e-10   \\\\\n",
       "\\textbf{Time:}             &     14:02:03     & \\textbf{  Log-Likelihood:    } &   -2076.8   \\\\\n",
       "\\textbf{No. Observations:} &         550      & \\textbf{  AIC:               } &     4160.   \\\\\n",
       "\\textbf{Df Residuals:}     &         547      & \\textbf{  BIC:               } &     4173.   \\\\\n",
       "\\textbf{Df Model:}         &           2      & \\textbf{                     } &             \\\\\n",
       "\\textbf{Covariance Type:}  &    nonrobust     & \\textbf{                     } &             \\\\\n",
       "\\bottomrule\n",
       "\\end{tabular}\n",
       "\\begin{tabular}{lcccccc}\n",
       "                        & \\textbf{coef} & \\textbf{std err} & \\textbf{t} & \\textbf{P$> |$t$|$} & \\textbf{[0.025} & \\textbf{0.975]}  \\\\\n",
       "\\midrule\n",
       "\\textbf{Intercept}      &      24.7008  &        0.452     &    54.662  &         0.000        &       23.813    &       25.588     \\\\\n",
       "\\textbf{centered\\_age}  &      -0.4176  &        0.134     &    -3.115  &         0.002        &       -0.681    &       -0.154     \\\\\n",
       "\\textbf{centered\\_grip} &       0.8025  &        0.154     &     5.206  &         0.000        &        0.500    &        1.105     \\\\\n",
       "\\bottomrule\n",
       "\\end{tabular}\n",
       "\\begin{tabular}{lclc}\n",
       "\\textbf{Omnibus:}       & 17.496 & \\textbf{  Durbin-Watson:     } &    1.992  \\\\\n",
       "\\textbf{Prob(Omnibus):} &  0.000 & \\textbf{  Jarque-Bera (JB):  } &   12.268  \\\\\n",
       "\\textbf{Skew:}          & -0.248 & \\textbf{  Prob(JB):          } &  0.00217  \\\\\n",
       "\\textbf{Kurtosis:}      &  2.462 & \\textbf{  Cond. No.          } &     3.57  \\\\\n",
       "\\bottomrule\n",
       "\\end{tabular}\n",
       "%\\caption{OLS Regression Results}\n",
       "\\end{center}\n",
       "\n",
       "Notes: \\newline\n",
       " [1] Standard Errors assume that the covariance matrix of the errors is correctly specified."
      ],
      "text/plain": [
       "<class 'statsmodels.iolib.summary.Summary'>\n",
       "\"\"\"\n",
       "                            OLS Regression Results                            \n",
       "==============================================================================\n",
       "Dep. Variable:              cognition   R-squared:                       0.075\n",
       "Model:                            OLS   Adj. R-squared:                  0.072\n",
       "Method:                 Least Squares   F-statistic:                     22.14\n",
       "Date:                Tue, 13 Aug 2024   Prob (F-statistic):           5.66e-10\n",
       "Time:                        14:02:03   Log-Likelihood:                -2076.8\n",
       "No. Observations:                 550   AIC:                             4160.\n",
       "Df Residuals:                     547   BIC:                             4173.\n",
       "Df Model:                           2                                         \n",
       "Covariance Type:            nonrobust                                         \n",
       "=================================================================================\n",
       "                    coef    std err          t      P>|t|      [0.025      0.975]\n",
       "---------------------------------------------------------------------------------\n",
       "Intercept        24.7008      0.452     54.662      0.000      23.813      25.588\n",
       "centered_age     -0.4176      0.134     -3.115      0.002      -0.681      -0.154\n",
       "centered_grip     0.8025      0.154      5.206      0.000       0.500       1.105\n",
       "==============================================================================\n",
       "Omnibus:                       17.496   Durbin-Watson:                   1.992\n",
       "Prob(Omnibus):                  0.000   Jarque-Bera (JB):               12.268\n",
       "Skew:                          -0.248   Prob(JB):                      0.00217\n",
       "Kurtosis:                       2.462   Cond. No.                         3.57\n",
       "==============================================================================\n",
       "\n",
       "Notes:\n",
       "[1] Standard Errors assume that the covariance matrix of the errors is correctly specified.\n",
       "\"\"\""
      ]
     },
     "execution_count": 15,
     "metadata": {},
     "output_type": "execute_result"
    }
   ],
   "source": [
    "age_grip_model = statsmodels.formula.api.ols(formula=f\"\"\"{COGNITION_COL} ~ \n",
    "                                             {CENTERED_AGE_COL} + \n",
    "                                             {CENTERED_GRIP_COL}\"\"\", data=df).fit()\n",
    "age_grip_model.summary()"
   ]
  },
  {
   "cell_type": "markdown",
   "metadata": {},
   "source": [
    "Now, the intercept is the expected cognition level for a person of 85 years old with 9 pounds grip strength. In addition to this, the slope for age ($-0.4176$) is less than the previous one, since we have a correlation with grip strength in the dataset.\n",
    "\n",
    "With the grip strength coefficient of 0.80, we expect cognition to increase of 0.8 for every additional year of age."
   ]
  },
  {
   "cell_type": "code",
   "execution_count": 16,
   "metadata": {},
   "outputs": [
    {
     "data": {
      "text/html": [
       "<div>\n",
       "<style scoped>\n",
       "    .dataframe tbody tr th:only-of-type {\n",
       "        vertical-align: middle;\n",
       "    }\n",
       "\n",
       "    .dataframe tbody tr th {\n",
       "        vertical-align: top;\n",
       "    }\n",
       "\n",
       "    .dataframe thead th {\n",
       "        text-align: right;\n",
       "    }\n",
       "</style>\n",
       "<table border=\"1\" class=\"dataframe\">\n",
       "  <thead>\n",
       "    <tr style=\"text-align: right;\">\n",
       "      <th></th>\n",
       "      <th>centered_age</th>\n",
       "      <th>centered_grip</th>\n",
       "    </tr>\n",
       "  </thead>\n",
       "  <tbody>\n",
       "    <tr>\n",
       "      <th>centered_age</th>\n",
       "      <td>1.000000</td>\n",
       "      <td>-0.184135</td>\n",
       "    </tr>\n",
       "    <tr>\n",
       "      <th>centered_grip</th>\n",
       "      <td>-0.184135</td>\n",
       "      <td>1.000000</td>\n",
       "    </tr>\n",
       "  </tbody>\n",
       "</table>\n",
       "</div>"
      ],
      "text/plain": [
       "               centered_age  centered_grip\n",
       "centered_age       1.000000      -0.184135\n",
       "centered_grip     -0.184135       1.000000"
      ]
     },
     "execution_count": 16,
     "metadata": {},
     "output_type": "execute_result"
    }
   ],
   "source": [
    "df.loc[:,[CENTERED_AGE_COL, CENTERED_GRIP_COL]].corr()"
   ]
  },
  {
   "cell_type": "markdown",
   "metadata": {},
   "source": [
    "The reduction in the residual variance with respect to the empty model is now equal to $0.07$."
   ]
  },
  {
   "cell_type": "code",
   "execution_count": 17,
   "metadata": {},
   "outputs": [
    {
     "name": "stdout",
     "output_type": "stream",
     "text": [
      "0.07\n"
     ]
    }
   ],
   "source": [
    "print(f\"{(empty_model.mse_resid-age_grip_model.mse_resid)/empty_model.mse_resid:.2f}\")"
   ]
  },
  {
   "cell_type": "markdown",
   "metadata": {},
   "source": [
    "# Between-Person Analysis Using Categorical Predictors"
   ]
  },
  {
   "cell_type": "markdown",
   "metadata": {},
   "source": [
    "## Model with sex"
   ]
  },
  {
   "cell_type": "markdown",
   "metadata": {},
   "source": [
    "In addition to continuous predictors, such as age and grip strength, which were included in the previous models, we have categorical predictors (i.e., analysis of covariance). One factor that we may include in our model is sex. Let's see first the distribution of sex values in the dataset before including it."
   ]
  },
  {
   "cell_type": "code",
   "execution_count": 18,
   "metadata": {},
   "outputs": [
    {
     "data": {
      "image/png": "[encoded data removed]",
      "text/plain": [
       "<Figure size 640x480 with 1 Axes>"
      ]
     },
     "metadata": {},
     "output_type": "display_data"
    }
   ],
   "source": [
    "ax = df[SEX_COL].hist(bins=[0,.2,.8,1], grid=False)\n",
    "ax.set_xticks([0.1, 0.9],[\"Men\",\"Women\"]);"
   ]
  },
  {
   "cell_type": "code",
   "execution_count": 19,
   "metadata": {},
   "outputs": [
    {
     "data": {
      "text/plain": [
       "sexMW\n",
       "1.0    0.587273\n",
       "0.0    0.412727\n",
       "Name: proportion, dtype: float64"
      ]
     },
     "execution_count": 19,
     "metadata": {},
     "output_type": "execute_result"
    }
   ],
   "source": [
    "df[SEX_COL].value_counts(normalize=True)"
   ]
  },
  {
   "cell_type": "markdown",
   "metadata": {},
   "source": [
    "We now create a dummy variable that is 0 for men and 1 for women, so that the intercept of the model can still be interpretable. In `pandas` we can do this with the categorical data type."
   ]
  },
  {
   "cell_type": "code",
   "execution_count": 20,
   "metadata": {},
   "outputs": [],
   "source": [
    "sex_categorical = pd.CategoricalDtype(categories=[0,1],ordered=True)\n",
    "df[SEX_COL] = df[SEX_COL].astype(sex_categorical)"
   ]
  },
  {
   "cell_type": "code",
   "execution_count": 21,
   "metadata": {},
   "outputs": [
    {
     "data": {
      "text/html": [
       "<table class=\"simpletable\">\n",
       "<caption>OLS Regression Results</caption>\n",
       "<tr>\n",
       "  <th>Dep. Variable:</th>        <td>cognition</td>    <th>  R-squared:         </th> <td>   0.099</td>\n",
       "</tr>\n",
       "<tr>\n",
       "  <th>Model:</th>                   <td>OLS</td>       <th>  Adj. R-squared:    </th> <td>   0.094</td>\n",
       "</tr>\n",
       "<tr>\n",
       "  <th>Method:</th>             <td>Least Squares</td>  <th>  F-statistic:       </th> <td>   20.04</td>\n",
       "</tr>\n",
       "<tr>\n",
       "  <th>Date:</th>             <td>Tue, 13 Aug 2024</td> <th>  Prob (F-statistic):</th> <td>2.48e-12</td>\n",
       "</tr>\n",
       "<tr>\n",
       "  <th>Time:</th>                 <td>14:02:04</td>     <th>  Log-Likelihood:    </th> <td> -2069.5</td>\n",
       "</tr>\n",
       "<tr>\n",
       "  <th>No. Observations:</th>      <td>   550</td>      <th>  AIC:               </th> <td>   4147.</td>\n",
       "</tr>\n",
       "<tr>\n",
       "  <th>Df Residuals:</th>          <td>   546</td>      <th>  BIC:               </th> <td>   4164.</td>\n",
       "</tr>\n",
       "<tr>\n",
       "  <th>Df Model:</th>              <td>     3</td>      <th>                     </th>     <td> </td>   \n",
       "</tr>\n",
       "<tr>\n",
       "  <th>Covariance Type:</th>      <td>nonrobust</td>    <th>                     </th>     <td> </td>   \n",
       "</tr>\n",
       "</table>\n",
       "<table class=\"simpletable\">\n",
       "<tr>\n",
       "        <td></td>           <th>coef</th>     <th>std err</th>      <th>t</th>      <th>P>|t|</th>  <th>[0.025</th>    <th>0.975]</th>  \n",
       "</tr>\n",
       "<tr>\n",
       "  <th>Intercept</th>     <td>   26.9594</td> <td>    0.739</td> <td>   36.487</td> <td> 0.000</td> <td>   25.508</td> <td>   28.411</td>\n",
       "</tr>\n",
       "<tr>\n",
       "  <th>sexMW[T.1]</th>    <td>   -3.7988</td> <td>    0.990</td> <td>   -3.836</td> <td> 0.000</td> <td>   -5.744</td> <td>   -1.853</td>\n",
       "</tr>\n",
       "<tr>\n",
       "  <th>centered_age</th>  <td>   -0.4338</td> <td>    0.132</td> <td>   -3.275</td> <td> 0.001</td> <td>   -0.694</td> <td>   -0.174</td>\n",
       "</tr>\n",
       "<tr>\n",
       "  <th>centered_grip</th> <td>    0.5460</td> <td>    0.166</td> <td>    3.284</td> <td> 0.001</td> <td>    0.219</td> <td>    0.873</td>\n",
       "</tr>\n",
       "</table>\n",
       "<table class=\"simpletable\">\n",
       "<tr>\n",
       "  <th>Omnibus:</th>       <td>16.621</td> <th>  Durbin-Watson:     </th> <td>   1.977</td>\n",
       "</tr>\n",
       "<tr>\n",
       "  <th>Prob(Omnibus):</th> <td> 0.000</td> <th>  Jarque-Bera (JB):  </th> <td>  10.935</td>\n",
       "</tr>\n",
       "<tr>\n",
       "  <th>Skew:</th>          <td>-0.210</td> <th>  Prob(JB):          </th> <td> 0.00422</td>\n",
       "</tr>\n",
       "<tr>\n",
       "  <th>Kurtosis:</th>      <td> 2.452</td> <th>  Cond. No.          </th> <td>    9.42</td>\n",
       "</tr>\n",
       "</table><br/><br/>Notes:<br/>[1] Standard Errors assume that the covariance matrix of the errors is correctly specified."
      ],
      "text/latex": [
       "\\begin{center}\n",
       "\\begin{tabular}{lclc}\n",
       "\\toprule\n",
       "\\textbf{Dep. Variable:}    &    cognition     & \\textbf{  R-squared:         } &     0.099   \\\\\n",
       "\\textbf{Model:}            &       OLS        & \\textbf{  Adj. R-squared:    } &     0.094   \\\\\n",
       "\\textbf{Method:}           &  Least Squares   & \\textbf{  F-statistic:       } &     20.04   \\\\\n",
       "\\textbf{Date:}             & Tue, 13 Aug 2024 & \\textbf{  Prob (F-statistic):} &  2.48e-12   \\\\\n",
       "\\textbf{Time:}             &     14:02:04     & \\textbf{  Log-Likelihood:    } &   -2069.5   \\\\\n",
       "\\textbf{No. Observations:} &         550      & \\textbf{  AIC:               } &     4147.   \\\\\n",
       "\\textbf{Df Residuals:}     &         546      & \\textbf{  BIC:               } &     4164.   \\\\\n",
       "\\textbf{Df Model:}         &           3      & \\textbf{                     } &             \\\\\n",
       "\\textbf{Covariance Type:}  &    nonrobust     & \\textbf{                     } &             \\\\\n",
       "\\bottomrule\n",
       "\\end{tabular}\n",
       "\\begin{tabular}{lcccccc}\n",
       "                        & \\textbf{coef} & \\textbf{std err} & \\textbf{t} & \\textbf{P$> |$t$|$} & \\textbf{[0.025} & \\textbf{0.975]}  \\\\\n",
       "\\midrule\n",
       "\\textbf{Intercept}      &      26.9594  &        0.739     &    36.487  &         0.000        &       25.508    &       28.411     \\\\\n",
       "\\textbf{sexMW[T.1]}     &      -3.7988  &        0.990     &    -3.836  &         0.000        &       -5.744    &       -1.853     \\\\\n",
       "\\textbf{centered\\_age}  &      -0.4338  &        0.132     &    -3.275  &         0.001        &       -0.694    &       -0.174     \\\\\n",
       "\\textbf{centered\\_grip} &       0.5460  &        0.166     &     3.284  &         0.001        &        0.219    &        0.873     \\\\\n",
       "\\bottomrule\n",
       "\\end{tabular}\n",
       "\\begin{tabular}{lclc}\n",
       "\\textbf{Omnibus:}       & 16.621 & \\textbf{  Durbin-Watson:     } &    1.977  \\\\\n",
       "\\textbf{Prob(Omnibus):} &  0.000 & \\textbf{  Jarque-Bera (JB):  } &   10.935  \\\\\n",
       "\\textbf{Skew:}          & -0.210 & \\textbf{  Prob(JB):          } &  0.00422  \\\\\n",
       "\\textbf{Kurtosis:}      &  2.452 & \\textbf{  Cond. No.          } &     9.42  \\\\\n",
       "\\bottomrule\n",
       "\\end{tabular}\n",
       "%\\caption{OLS Regression Results}\n",
       "\\end{center}\n",
       "\n",
       "Notes: \\newline\n",
       " [1] Standard Errors assume that the covariance matrix of the errors is correctly specified."
      ],
      "text/plain": [
       "<class 'statsmodels.iolib.summary.Summary'>\n",
       "\"\"\"\n",
       "                            OLS Regression Results                            \n",
       "==============================================================================\n",
       "Dep. Variable:              cognition   R-squared:                       0.099\n",
       "Model:                            OLS   Adj. R-squared:                  0.094\n",
       "Method:                 Least Squares   F-statistic:                     20.04\n",
       "Date:                Tue, 13 Aug 2024   Prob (F-statistic):           2.48e-12\n",
       "Time:                        14:02:04   Log-Likelihood:                -2069.5\n",
       "No. Observations:                 550   AIC:                             4147.\n",
       "Df Residuals:                     546   BIC:                             4164.\n",
       "Df Model:                           3                                         \n",
       "Covariance Type:            nonrobust                                         \n",
       "=================================================================================\n",
       "                    coef    std err          t      P>|t|      [0.025      0.975]\n",
       "---------------------------------------------------------------------------------\n",
       "Intercept        26.9594      0.739     36.487      0.000      25.508      28.411\n",
       "sexMW[T.1]       -3.7988      0.990     -3.836      0.000      -5.744      -1.853\n",
       "centered_age     -0.4338      0.132     -3.275      0.001      -0.694      -0.174\n",
       "centered_grip     0.5460      0.166      3.284      0.001       0.219       0.873\n",
       "==============================================================================\n",
       "Omnibus:                       16.621   Durbin-Watson:                   1.977\n",
       "Prob(Omnibus):                  0.000   Jarque-Bera (JB):               10.935\n",
       "Skew:                          -0.210   Prob(JB):                      0.00422\n",
       "Kurtosis:                       2.452   Cond. No.                         9.42\n",
       "==============================================================================\n",
       "\n",
       "Notes:\n",
       "[1] Standard Errors assume that the covariance matrix of the errors is correctly specified.\n",
       "\"\"\""
      ]
     },
     "execution_count": 21,
     "metadata": {},
     "output_type": "execute_result"
    }
   ],
   "source": [
    "sex_model = statsmodels.formula.api.ols(formula=f\"\"\"{COGNITION_COL} ~\n",
    "                                                {CENTERED_AGE_COL} + \n",
    "                                                {CENTERED_GRIP_COL} + \n",
    "                                                {SEX_COL}\n",
    "                                                \"\"\", data=df).fit()\n",
    "sex_model.summary()"
   ]
  },
  {
   "cell_type": "markdown",
   "metadata": {},
   "source": [
    "The results from the model which includes sex among the predictors now show that the estimated effect for sex is -3.80, indicating that women are predicted to have significantly lower cognition of men by 3.8.\n",
    "\n",
    "The intercept of the model now must be interpreted as the axpected cognition for a man who is 85 years old and has a grip strength of 9 poinds.\n",
    "\n",
    "By including the sex among the predictors, the residual variance was reduced of $9\\%$.\n",
    "\n",
    "The effect of grip was reduced from $0.8$ to $0.54$ (with an increase in its standard error) since we have correlation between sex and grip strength, while the correlation between age and grip strength is low and thus the effect of age and its SE are similar to the previous model."
   ]
  },
  {
   "cell_type": "code",
   "execution_count": 22,
   "metadata": {},
   "outputs": [
    {
     "data": {
      "text/html": [
       "<div>\n",
       "<style scoped>\n",
       "    .dataframe tbody tr th:only-of-type {\n",
       "        vertical-align: middle;\n",
       "    }\n",
       "\n",
       "    .dataframe tbody tr th {\n",
       "        vertical-align: top;\n",
       "    }\n",
       "\n",
       "    .dataframe thead th {\n",
       "        text-align: right;\n",
       "    }\n",
       "</style>\n",
       "<table border=\"1\" class=\"dataframe\">\n",
       "  <thead>\n",
       "    <tr style=\"text-align: right;\">\n",
       "      <th></th>\n",
       "      <th>centered_age</th>\n",
       "      <th>centered_grip</th>\n",
       "      <th>sexMW</th>\n",
       "    </tr>\n",
       "  </thead>\n",
       "  <tbody>\n",
       "    <tr>\n",
       "      <th>centered_age</th>\n",
       "      <td>1.000000</td>\n",
       "      <td>-0.184135</td>\n",
       "      <td>0.045597</td>\n",
       "    </tr>\n",
       "    <tr>\n",
       "      <th>centered_grip</th>\n",
       "      <td>-0.184135</td>\n",
       "      <td>1.000000</td>\n",
       "      <td>-0.403243</td>\n",
       "    </tr>\n",
       "    <tr>\n",
       "      <th>sexMW</th>\n",
       "      <td>0.045597</td>\n",
       "      <td>-0.403243</td>\n",
       "      <td>1.000000</td>\n",
       "    </tr>\n",
       "  </tbody>\n",
       "</table>\n",
       "</div>"
      ],
      "text/plain": [
       "               centered_age  centered_grip     sexMW\n",
       "centered_age       1.000000      -0.184135  0.045597\n",
       "centered_grip     -0.184135       1.000000 -0.403243\n",
       "sexMW              0.045597      -0.403243  1.000000"
      ]
     },
     "execution_count": 22,
     "metadata": {},
     "output_type": "execute_result"
    }
   ],
   "source": [
    "df.loc[:, [CENTERED_AGE_COL, CENTERED_GRIP_COL, SEX_COL]].corr()"
   ]
  },
  {
   "cell_type": "markdown",
   "metadata": {},
   "source": [
    "## Model with dementia"
   ]
  },
  {
   "cell_type": "markdown",
   "metadata": {},
   "source": [
    "In addition to age, grip strength, and sex, le latest predictor that we consider is the dementia diagnosis during the rest of the longitudinal study. Three different diagnosis will be considered:\n",
    "- people not diagnosed with dementia (72.55%), group **none**\n",
    "- people diagnosed with dementia in the future (19.82%), group **future**\n",
    "- people already diagnosed with dementia (7.64%), group **current**"
   ]
  },
  {
   "cell_type": "code",
   "execution_count": 27,
   "metadata": {},
   "outputs": [
    {
     "data": {
      "text/plain": [
       "demgroup\n",
       "1    0.725455\n",
       "2    0.198182\n",
       "3    0.076364\n",
       "Name: proportion, dtype: float64"
      ]
     },
     "execution_count": 27,
     "metadata": {},
     "output_type": "execute_result"
    }
   ],
   "source": [
    "df[DEMENTIA_GROUP_COL].value_counts(normalize=True)"
   ]
  },
  {
   "cell_type": "markdown",
   "metadata": {},
   "source": [
    "We create two dummy variables to code the dementia diagnosis, selecting the **none** group as the reference group since it is the largest in the sample."
   ]
  },
  {
   "cell_type": "code",
   "execution_count": 28,
   "metadata": {},
   "outputs": [
    {
     "data": {
      "text/html": [
       "<table class=\"simpletable\">\n",
       "<caption>OLS Regression Results</caption>\n",
       "<tr>\n",
       "  <th>Dep. Variable:</th>        <td>cognition</td>    <th>  R-squared:         </th> <td>   0.277</td>\n",
       "</tr>\n",
       "<tr>\n",
       "  <th>Model:</th>                   <td>OLS</td>       <th>  Adj. R-squared:    </th> <td>   0.271</td>\n",
       "</tr>\n",
       "<tr>\n",
       "  <th>Method:</th>             <td>Least Squares</td>  <th>  F-statistic:       </th> <td>   41.75</td>\n",
       "</tr>\n",
       "<tr>\n",
       "  <th>Date:</th>             <td>Tue, 13 Aug 2024</td> <th>  Prob (F-statistic):</th> <td>2.16e-36</td>\n",
       "</tr>\n",
       "<tr>\n",
       "  <th>Time:</th>                 <td>14:04:06</td>     <th>  Log-Likelihood:    </th> <td> -2008.9</td>\n",
       "</tr>\n",
       "<tr>\n",
       "  <th>No. Observations:</th>      <td>   550</td>      <th>  AIC:               </th> <td>   4030.</td>\n",
       "</tr>\n",
       "<tr>\n",
       "  <th>Df Residuals:</th>          <td>   544</td>      <th>  BIC:               </th> <td>   4056.</td>\n",
       "</tr>\n",
       "<tr>\n",
       "  <th>Df Model:</th>              <td>     5</td>      <th>                     </th>     <td> </td>   \n",
       "</tr>\n",
       "<tr>\n",
       "  <th>Covariance Type:</th>      <td>nonrobust</td>    <th>                     </th>     <td> </td>   \n",
       "</tr>\n",
       "</table>\n",
       "<table class=\"simpletable\">\n",
       "<tr>\n",
       "        <td></td>           <th>coef</th>     <th>std err</th>      <th>t</th>      <th>P>|t|</th>  <th>[0.025</th>    <th>0.975]</th>  \n",
       "</tr>\n",
       "<tr>\n",
       "  <th>Intercept</th>     <td>   29.2643</td> <td>    0.699</td> <td>   41.895</td> <td> 0.000</td> <td>   27.892</td> <td>   30.636</td>\n",
       "</tr>\n",
       "<tr>\n",
       "  <th>sexMW[T.1]</th>    <td>   -3.6574</td> <td>    0.891</td> <td>   -4.103</td> <td> 0.000</td> <td>   -5.408</td> <td>   -1.906</td>\n",
       "</tr>\n",
       "<tr>\n",
       "  <th>demgroup[T.2]</th> <td>   -5.7220</td> <td>    1.019</td> <td>   -5.615</td> <td> 0.000</td> <td>   -7.724</td> <td>   -3.720</td>\n",
       "</tr>\n",
       "<tr>\n",
       "  <th>demgroup[T.3]</th> <td>  -16.4798</td> <td>    1.523</td> <td>  -10.822</td> <td> 0.000</td> <td>  -19.471</td> <td>  -13.489</td>\n",
       "</tr>\n",
       "<tr>\n",
       "  <th>centered_age</th>  <td>   -0.4057</td> <td>    0.119</td> <td>   -3.412</td> <td> 0.001</td> <td>   -0.639</td> <td>   -0.172</td>\n",
       "</tr>\n",
       "<tr>\n",
       "  <th>centered_grip</th> <td>    0.6042</td> <td>    0.150</td> <td>    4.034</td> <td> 0.000</td> <td>    0.310</td> <td>    0.898</td>\n",
       "</tr>\n",
       "</table>\n",
       "<table class=\"simpletable\">\n",
       "<tr>\n",
       "  <th>Omnibus:</th>       <td>10.382</td> <th>  Durbin-Watson:     </th> <td>   1.949</td>\n",
       "</tr>\n",
       "<tr>\n",
       "  <th>Prob(Omnibus):</th> <td> 0.006</td> <th>  Jarque-Bera (JB):  </th> <td>   8.535</td>\n",
       "</tr>\n",
       "<tr>\n",
       "  <th>Skew:</th>          <td>-0.223</td> <th>  Prob(JB):          </th> <td>  0.0140</td>\n",
       "</tr>\n",
       "<tr>\n",
       "  <th>Kurtosis:</th>      <td> 2.583</td> <th>  Cond. No.          </th> <td>    13.8</td>\n",
       "</tr>\n",
       "</table><br/><br/>Notes:<br/>[1] Standard Errors assume that the covariance matrix of the errors is correctly specified."
      ],
      "text/latex": [
       "\\begin{center}\n",
       "\\begin{tabular}{lclc}\n",
       "\\toprule\n",
       "\\textbf{Dep. Variable:}    &    cognition     & \\textbf{  R-squared:         } &     0.277   \\\\\n",
       "\\textbf{Model:}            &       OLS        & \\textbf{  Adj. R-squared:    } &     0.271   \\\\\n",
       "\\textbf{Method:}           &  Least Squares   & \\textbf{  F-statistic:       } &     41.75   \\\\\n",
       "\\textbf{Date:}             & Tue, 13 Aug 2024 & \\textbf{  Prob (F-statistic):} &  2.16e-36   \\\\\n",
       "\\textbf{Time:}             &     14:04:06     & \\textbf{  Log-Likelihood:    } &   -2008.9   \\\\\n",
       "\\textbf{No. Observations:} &         550      & \\textbf{  AIC:               } &     4030.   \\\\\n",
       "\\textbf{Df Residuals:}     &         544      & \\textbf{  BIC:               } &     4056.   \\\\\n",
       "\\textbf{Df Model:}         &           5      & \\textbf{                     } &             \\\\\n",
       "\\textbf{Covariance Type:}  &    nonrobust     & \\textbf{                     } &             \\\\\n",
       "\\bottomrule\n",
       "\\end{tabular}\n",
       "\\begin{tabular}{lcccccc}\n",
       "                        & \\textbf{coef} & \\textbf{std err} & \\textbf{t} & \\textbf{P$> |$t$|$} & \\textbf{[0.025} & \\textbf{0.975]}  \\\\\n",
       "\\midrule\n",
       "\\textbf{Intercept}      &      29.2643  &        0.699     &    41.895  &         0.000        &       27.892    &       30.636     \\\\\n",
       "\\textbf{sexMW[T.1]}     &      -3.6574  &        0.891     &    -4.103  &         0.000        &       -5.408    &       -1.906     \\\\\n",
       "\\textbf{demgroup[T.2]}  &      -5.7220  &        1.019     &    -5.615  &         0.000        &       -7.724    &       -3.720     \\\\\n",
       "\\textbf{demgroup[T.3]}  &     -16.4798  &        1.523     &   -10.822  &         0.000        &      -19.471    &      -13.489     \\\\\n",
       "\\textbf{centered\\_age}  &      -0.4057  &        0.119     &    -3.412  &         0.001        &       -0.639    &       -0.172     \\\\\n",
       "\\textbf{centered\\_grip} &       0.6042  &        0.150     &     4.034  &         0.000        &        0.310    &        0.898     \\\\\n",
       "\\bottomrule\n",
       "\\end{tabular}\n",
       "\\begin{tabular}{lclc}\n",
       "\\textbf{Omnibus:}       & 10.382 & \\textbf{  Durbin-Watson:     } &    1.949  \\\\\n",
       "\\textbf{Prob(Omnibus):} &  0.006 & \\textbf{  Jarque-Bera (JB):  } &    8.535  \\\\\n",
       "\\textbf{Skew:}          & -0.223 & \\textbf{  Prob(JB):          } &   0.0140  \\\\\n",
       "\\textbf{Kurtosis:}      &  2.583 & \\textbf{  Cond. No.          } &     13.8  \\\\\n",
       "\\bottomrule\n",
       "\\end{tabular}\n",
       "%\\caption{OLS Regression Results}\n",
       "\\end{center}\n",
       "\n",
       "Notes: \\newline\n",
       " [1] Standard Errors assume that the covariance matrix of the errors is correctly specified."
      ],
      "text/plain": [
       "<class 'statsmodels.iolib.summary.Summary'>\n",
       "\"\"\"\n",
       "                            OLS Regression Results                            \n",
       "==============================================================================\n",
       "Dep. Variable:              cognition   R-squared:                       0.277\n",
       "Model:                            OLS   Adj. R-squared:                  0.271\n",
       "Method:                 Least Squares   F-statistic:                     41.75\n",
       "Date:                Tue, 13 Aug 2024   Prob (F-statistic):           2.16e-36\n",
       "Time:                        14:04:06   Log-Likelihood:                -2008.9\n",
       "No. Observations:                 550   AIC:                             4030.\n",
       "Df Residuals:                     544   BIC:                             4056.\n",
       "Df Model:                           5                                         \n",
       "Covariance Type:            nonrobust                                         \n",
       "=================================================================================\n",
       "                    coef    std err          t      P>|t|      [0.025      0.975]\n",
       "---------------------------------------------------------------------------------\n",
       "Intercept        29.2643      0.699     41.895      0.000      27.892      30.636\n",
       "sexMW[T.1]       -3.6574      0.891     -4.103      0.000      -5.408      -1.906\n",
       "demgroup[T.2]    -5.7220      1.019     -5.615      0.000      -7.724      -3.720\n",
       "demgroup[T.3]   -16.4798      1.523    -10.822      0.000     -19.471     -13.489\n",
       "centered_age     -0.4057      0.119     -3.412      0.001      -0.639      -0.172\n",
       "centered_grip     0.6042      0.150      4.034      0.000       0.310       0.898\n",
       "==============================================================================\n",
       "Omnibus:                       10.382   Durbin-Watson:                   1.949\n",
       "Prob(Omnibus):                  0.006   Jarque-Bera (JB):                8.535\n",
       "Skew:                          -0.223   Prob(JB):                       0.0140\n",
       "Kurtosis:                       2.583   Cond. No.                         13.8\n",
       "==============================================================================\n",
       "\n",
       "Notes:\n",
       "[1] Standard Errors assume that the covariance matrix of the errors is correctly specified.\n",
       "\"\"\""
      ]
     },
     "execution_count": 28,
     "metadata": {},
     "output_type": "execute_result"
    }
   ],
   "source": [
    "dementia_categorical = pd.CategoricalDtype(categories=[1,2,3],ordered=True)\n",
    "\n",
    "\n",
    "df[DEMENTIA_GROUP_COL] = df[DEMENTIA_GROUP_COL].astype(dementia_categorical)\n",
    "age_grip_sex_dem_model = statsmodels.formula.api.ols(formula=f\"\"\"\n",
    "                                             {COGNITION_COL} ~ \n",
    "                                             {CENTERED_AGE_COL} + \n",
    "                                             {CENTERED_GRIP_COL} + \n",
    "                                             {SEX_COL} + \n",
    "                                             {DEMENTIA_GROUP_COL}\n",
    "                                             \"\"\", data=df).fit()\n",
    "age_grip_sex_dem_model.summary()"
   ]
  },
  {
   "cell_type": "markdown",
   "metadata": {},
   "source": [
    "Given the coding that we did on the dementia group, the summary of the results show the significant tests for each specific group contrast separately. We may be interested in whether there are significant differences across the groups in general, i.e. in the omnibus effect of dementia group. \n",
    "\n",
    "With statsmodels, in order to get the omnibus effect, we need to retrieve the results of the Wald tests. For the dementia group, we see that the result is $F(2, 544) = 67.06, p < .001$, thus meaning that we have a significant omnibus effect of dementia group on cognition."
   ]
  },
  {
   "cell_type": "code",
   "execution_count": 25,
   "metadata": {},
   "outputs": [
    {
     "data": {
      "text/plain": [
       "<class 'statsmodels.stats.contrast.WaldTestResults'>\n",
       "                         F            P>F  df constraint  df denom\n",
       "Intercept      1755.231343  2.112191e-172              1     544.0\n",
       "sexMW            16.833009   4.706929e-05              1     544.0\n",
       "demgroup         67.055657   9.311747e-27              2     544.0\n",
       "centered_age     11.645005   6.916503e-04              1     544.0\n",
       "centered_grip    16.274797   6.263041e-05              1     544.0"
      ]
     },
     "execution_count": 25,
     "metadata": {},
     "output_type": "execute_result"
    }
   ],
   "source": [
    "age_grip_sex_dem_model.wald_test_terms(scalar=True)"
   ]
  },
  {
   "cell_type": "markdown",
   "metadata": {},
   "source": [
    "With the approach that we just saw, we are missing the comparison between the **current** and the **future** dementia groups, as the results of our model only reports the comparison between **current** and **none** and **future** and **none**. In order to get also the comparison between the two missing groups, we need to change our reference group and re-run the model estimation."
   ]
  },
  {
   "cell_type": "code",
   "execution_count": 26,
   "metadata": {},
   "outputs": [
    {
     "data": {
      "text/html": [
       "<table class=\"simpletable\">\n",
       "<caption>OLS Regression Results</caption>\n",
       "<tr>\n",
       "  <th>Dep. Variable:</th>        <td>cognition</td>    <th>  R-squared:         </th> <td>   0.277</td>\n",
       "</tr>\n",
       "<tr>\n",
       "  <th>Model:</th>                   <td>OLS</td>       <th>  Adj. R-squared:    </th> <td>   0.271</td>\n",
       "</tr>\n",
       "<tr>\n",
       "  <th>Method:</th>             <td>Least Squares</td>  <th>  F-statistic:       </th> <td>   41.75</td>\n",
       "</tr>\n",
       "<tr>\n",
       "  <th>Date:</th>             <td>Tue, 13 Aug 2024</td> <th>  Prob (F-statistic):</th> <td>2.16e-36</td>\n",
       "</tr>\n",
       "<tr>\n",
       "  <th>Time:</th>                 <td>14:02:05</td>     <th>  Log-Likelihood:    </th> <td> -2008.9</td>\n",
       "</tr>\n",
       "<tr>\n",
       "  <th>No. Observations:</th>      <td>   550</td>      <th>  AIC:               </th> <td>   4030.</td>\n",
       "</tr>\n",
       "<tr>\n",
       "  <th>Df Residuals:</th>          <td>   544</td>      <th>  BIC:               </th> <td>   4056.</td>\n",
       "</tr>\n",
       "<tr>\n",
       "  <th>Df Model:</th>              <td>     5</td>      <th>                     </th>     <td> </td>   \n",
       "</tr>\n",
       "<tr>\n",
       "  <th>Covariance Type:</th>      <td>nonrobust</td>    <th>                     </th>     <td> </td>   \n",
       "</tr>\n",
       "</table>\n",
       "<table class=\"simpletable\">\n",
       "<tr>\n",
       "        <td></td>           <th>coef</th>     <th>std err</th>      <th>t</th>      <th>P>|t|</th>  <th>[0.025</th>    <th>0.975]</th>  \n",
       "</tr>\n",
       "<tr>\n",
       "  <th>Intercept</th>     <td>   23.5424</td> <td>    1.079</td> <td>   21.828</td> <td> 0.000</td> <td>   21.424</td> <td>   25.661</td>\n",
       "</tr>\n",
       "<tr>\n",
       "  <th>sexMW[T.1]</th>    <td>   -3.6574</td> <td>    0.891</td> <td>   -4.103</td> <td> 0.000</td> <td>   -5.408</td> <td>   -1.906</td>\n",
       "</tr>\n",
       "<tr>\n",
       "  <th>demgroup[T.3]</th> <td>  -10.7578</td> <td>    1.708</td> <td>   -6.299</td> <td> 0.000</td> <td>  -14.113</td> <td>   -7.403</td>\n",
       "</tr>\n",
       "<tr>\n",
       "  <th>demgroup[T.1]</th> <td>    5.7220</td> <td>    1.019</td> <td>    5.615</td> <td> 0.000</td> <td>    3.720</td> <td>    7.724</td>\n",
       "</tr>\n",
       "<tr>\n",
       "  <th>centered_age</th>  <td>   -0.4057</td> <td>    0.119</td> <td>   -3.412</td> <td> 0.001</td> <td>   -0.639</td> <td>   -0.172</td>\n",
       "</tr>\n",
       "<tr>\n",
       "  <th>centered_grip</th> <td>    0.6042</td> <td>    0.150</td> <td>    4.034</td> <td> 0.000</td> <td>    0.310</td> <td>    0.898</td>\n",
       "</tr>\n",
       "</table>\n",
       "<table class=\"simpletable\">\n",
       "<tr>\n",
       "  <th>Omnibus:</th>       <td>10.382</td> <th>  Durbin-Watson:     </th> <td>   1.949</td>\n",
       "</tr>\n",
       "<tr>\n",
       "  <th>Prob(Omnibus):</th> <td> 0.006</td> <th>  Jarque-Bera (JB):  </th> <td>   8.535</td>\n",
       "</tr>\n",
       "<tr>\n",
       "  <th>Skew:</th>          <td>-0.223</td> <th>  Prob(JB):          </th> <td>  0.0140</td>\n",
       "</tr>\n",
       "<tr>\n",
       "  <th>Kurtosis:</th>      <td> 2.583</td> <th>  Cond. No.          </th> <td>    17.3</td>\n",
       "</tr>\n",
       "</table><br/><br/>Notes:<br/>[1] Standard Errors assume that the covariance matrix of the errors is correctly specified."
      ],
      "text/latex": [
       "\\begin{center}\n",
       "\\begin{tabular}{lclc}\n",
       "\\toprule\n",
       "\\textbf{Dep. Variable:}    &    cognition     & \\textbf{  R-squared:         } &     0.277   \\\\\n",
       "\\textbf{Model:}            &       OLS        & \\textbf{  Adj. R-squared:    } &     0.271   \\\\\n",
       "\\textbf{Method:}           &  Least Squares   & \\textbf{  F-statistic:       } &     41.75   \\\\\n",
       "\\textbf{Date:}             & Tue, 13 Aug 2024 & \\textbf{  Prob (F-statistic):} &  2.16e-36   \\\\\n",
       "\\textbf{Time:}             &     14:02:05     & \\textbf{  Log-Likelihood:    } &   -2008.9   \\\\\n",
       "\\textbf{No. Observations:} &         550      & \\textbf{  AIC:               } &     4030.   \\\\\n",
       "\\textbf{Df Residuals:}     &         544      & \\textbf{  BIC:               } &     4056.   \\\\\n",
       "\\textbf{Df Model:}         &           5      & \\textbf{                     } &             \\\\\n",
       "\\textbf{Covariance Type:}  &    nonrobust     & \\textbf{                     } &             \\\\\n",
       "\\bottomrule\n",
       "\\end{tabular}\n",
       "\\begin{tabular}{lcccccc}\n",
       "                        & \\textbf{coef} & \\textbf{std err} & \\textbf{t} & \\textbf{P$> |$t$|$} & \\textbf{[0.025} & \\textbf{0.975]}  \\\\\n",
       "\\midrule\n",
       "\\textbf{Intercept}      &      23.5424  &        1.079     &    21.828  &         0.000        &       21.424    &       25.661     \\\\\n",
       "\\textbf{sexMW[T.1]}     &      -3.6574  &        0.891     &    -4.103  &         0.000        &       -5.408    &       -1.906     \\\\\n",
       "\\textbf{demgroup[T.3]}  &     -10.7578  &        1.708     &    -6.299  &         0.000        &      -14.113    &       -7.403     \\\\\n",
       "\\textbf{demgroup[T.1]}  &       5.7220  &        1.019     &     5.615  &         0.000        &        3.720    &        7.724     \\\\\n",
       "\\textbf{centered\\_age}  &      -0.4057  &        0.119     &    -3.412  &         0.001        &       -0.639    &       -0.172     \\\\\n",
       "\\textbf{centered\\_grip} &       0.6042  &        0.150     &     4.034  &         0.000        &        0.310    &        0.898     \\\\\n",
       "\\bottomrule\n",
       "\\end{tabular}\n",
       "\\begin{tabular}{lclc}\n",
       "\\textbf{Omnibus:}       & 10.382 & \\textbf{  Durbin-Watson:     } &    1.949  \\\\\n",
       "\\textbf{Prob(Omnibus):} &  0.006 & \\textbf{  Jarque-Bera (JB):  } &    8.535  \\\\\n",
       "\\textbf{Skew:}          & -0.223 & \\textbf{  Prob(JB):          } &   0.0140  \\\\\n",
       "\\textbf{Kurtosis:}      &  2.583 & \\textbf{  Cond. No.          } &     17.3  \\\\\n",
       "\\bottomrule\n",
       "\\end{tabular}\n",
       "%\\caption{OLS Regression Results}\n",
       "\\end{center}\n",
       "\n",
       "Notes: \\newline\n",
       " [1] Standard Errors assume that the covariance matrix of the errors is correctly specified."
      ],
      "text/plain": [
       "<class 'statsmodels.iolib.summary.Summary'>\n",
       "\"\"\"\n",
       "                            OLS Regression Results                            \n",
       "==============================================================================\n",
       "Dep. Variable:              cognition   R-squared:                       0.277\n",
       "Model:                            OLS   Adj. R-squared:                  0.271\n",
       "Method:                 Least Squares   F-statistic:                     41.75\n",
       "Date:                Tue, 13 Aug 2024   Prob (F-statistic):           2.16e-36\n",
       "Time:                        14:02:05   Log-Likelihood:                -2008.9\n",
       "No. Observations:                 550   AIC:                             4030.\n",
       "Df Residuals:                     544   BIC:                             4056.\n",
       "Df Model:                           5                                         \n",
       "Covariance Type:            nonrobust                                         \n",
       "=================================================================================\n",
       "                    coef    std err          t      P>|t|      [0.025      0.975]\n",
       "---------------------------------------------------------------------------------\n",
       "Intercept        23.5424      1.079     21.828      0.000      21.424      25.661\n",
       "sexMW[T.1]       -3.6574      0.891     -4.103      0.000      -5.408      -1.906\n",
       "demgroup[T.3]   -10.7578      1.708     -6.299      0.000     -14.113      -7.403\n",
       "demgroup[T.1]     5.7220      1.019      5.615      0.000       3.720       7.724\n",
       "centered_age     -0.4057      0.119     -3.412      0.001      -0.639      -0.172\n",
       "centered_grip     0.6042      0.150      4.034      0.000       0.310       0.898\n",
       "==============================================================================\n",
       "Omnibus:                       10.382   Durbin-Watson:                   1.949\n",
       "Prob(Omnibus):                  0.006   Jarque-Bera (JB):                8.535\n",
       "Skew:                          -0.223   Prob(JB):                       0.0140\n",
       "Kurtosis:                       2.583   Cond. No.                         17.3\n",
       "==============================================================================\n",
       "\n",
       "Notes:\n",
       "[1] Standard Errors assume that the covariance matrix of the errors is correctly specified.\n",
       "\"\"\""
      ]
     },
     "execution_count": 26,
     "metadata": {},
     "output_type": "execute_result"
    }
   ],
   "source": [
    "dementia_categorical = pd.CategoricalDtype(categories=[2,3,1],ordered=True)\n",
    "\n",
    "\n",
    "df[DEMENTIA_GROUP_COL] = df[DEMENTIA_GROUP_COL].astype(dementia_categorical)\n",
    "age_grip_sex_dem_model = statsmodels.formula.api.ols(formula=f\"\"\"\n",
    "                                             {COGNITION_COL} ~ \n",
    "                                             {CENTERED_AGE_COL} + \n",
    "                                             {CENTERED_GRIP_COL} + \n",
    "                                             {SEX_COL} + \n",
    "                                             {DEMENTIA_GROUP_COL}\n",
    "                                             \"\"\", data=df).fit()\n",
    "age_grip_sex_dem_model.summary()"
   ]
  },
  {
   "cell_type": "markdown",
   "metadata": {},
   "source": [
    "# Interpreting Interactions Among Continuous Predictors\n",
    "The idea that the effect of a model predictor depends on another model predicto is referred to as **moderation**, and we can exploit by adding an interaction term between the two predictors. Given that we add an interaction term, main effects must be interpreted conditionally on its interacting predictor, not marginally as when they are included only as main effects."
   ]
  },
  {
   "cell_type": "markdown",
   "metadata": {},
   "source": [
    "## Age and Grip Interaction"
   ]
  },
  {
   "cell_type": "code",
   "execution_count": 30,
   "metadata": {},
   "outputs": [
    {
     "data": {
      "text/html": [
       "<table class=\"simpletable\">\n",
       "<caption>OLS Regression Results</caption>\n",
       "<tr>\n",
       "  <th>Dep. Variable:</th>        <td>cognition</td>    <th>  R-squared:         </th> <td>   0.289</td>\n",
       "</tr>\n",
       "<tr>\n",
       "  <th>Model:</th>                   <td>OLS</td>       <th>  Adj. R-squared:    </th> <td>   0.282</td>\n",
       "</tr>\n",
       "<tr>\n",
       "  <th>Method:</th>             <td>Least Squares</td>  <th>  F-statistic:       </th> <td>   36.85</td>\n",
       "</tr>\n",
       "<tr>\n",
       "  <th>Date:</th>             <td>Tue, 13 Aug 2024</td> <th>  Prob (F-statistic):</th> <td>1.66e-37</td>\n",
       "</tr>\n",
       "<tr>\n",
       "  <th>Time:</th>                 <td>14:07:33</td>     <th>  Log-Likelihood:    </th> <td> -2004.3</td>\n",
       "</tr>\n",
       "<tr>\n",
       "  <th>No. Observations:</th>      <td>   550</td>      <th>  AIC:               </th> <td>   4023.</td>\n",
       "</tr>\n",
       "<tr>\n",
       "  <th>Df Residuals:</th>          <td>   543</td>      <th>  BIC:               </th> <td>   4053.</td>\n",
       "</tr>\n",
       "<tr>\n",
       "  <th>Df Model:</th>              <td>     6</td>      <th>                     </th>     <td> </td>   \n",
       "</tr>\n",
       "<tr>\n",
       "  <th>Covariance Type:</th>      <td>nonrobust</td>    <th>                     </th>     <td> </td>   \n",
       "</tr>\n",
       "</table>\n",
       "<table class=\"simpletable\">\n",
       "<tr>\n",
       "               <td></td>                 <th>coef</th>     <th>std err</th>      <th>t</th>      <th>P>|t|</th>  <th>[0.025</th>    <th>0.975]</th>  \n",
       "</tr>\n",
       "<tr>\n",
       "  <th>Intercept</th>                  <td>   29.4078</td> <td>    0.695</td> <td>   42.319</td> <td> 0.000</td> <td>   28.043</td> <td>   30.773</td>\n",
       "</tr>\n",
       "<tr>\n",
       "  <th>sexMW[T.1]</th>                 <td>   -3.4556</td> <td>    0.887</td> <td>   -3.895</td> <td> 0.000</td> <td>   -5.199</td> <td>   -1.713</td>\n",
       "</tr>\n",
       "<tr>\n",
       "  <th>demgroup[T.2]</th>              <td>   -5.9225</td> <td>    1.014</td> <td>   -5.843</td> <td> 0.000</td> <td>   -7.914</td> <td>   -3.931</td>\n",
       "</tr>\n",
       "<tr>\n",
       "  <th>demgroup[T.3]</th>              <td>  -16.3004</td> <td>    1.513</td> <td>  -10.777</td> <td> 0.000</td> <td>  -19.272</td> <td>  -13.329</td>\n",
       "</tr>\n",
       "<tr>\n",
       "  <th>centered_age</th>               <td>   -0.3340</td> <td>    0.120</td> <td>   -2.775</td> <td> 0.006</td> <td>   -0.570</td> <td>   -0.098</td>\n",
       "</tr>\n",
       "<tr>\n",
       "  <th>centered_grip</th>              <td>    0.6194</td> <td>    0.149</td> <td>    4.164</td> <td> 0.000</td> <td>    0.327</td> <td>    0.912</td>\n",
       "</tr>\n",
       "<tr>\n",
       "  <th>centered_age:centered_grip</th> <td>    0.1230</td> <td>    0.041</td> <td>    3.035</td> <td> 0.003</td> <td>    0.043</td> <td>    0.203</td>\n",
       "</tr>\n",
       "</table>\n",
       "<table class=\"simpletable\">\n",
       "<tr>\n",
       "  <th>Omnibus:</th>       <td> 9.621</td> <th>  Durbin-Watson:     </th> <td>   1.940</td>\n",
       "</tr>\n",
       "<tr>\n",
       "  <th>Prob(Omnibus):</th> <td> 0.008</td> <th>  Jarque-Bera (JB):  </th> <td>   7.683</td>\n",
       "</tr>\n",
       "<tr>\n",
       "  <th>Skew:</th>          <td>-0.199</td> <th>  Prob(JB):          </th> <td>  0.0215</td>\n",
       "</tr>\n",
       "<tr>\n",
       "  <th>Kurtosis:</th>      <td> 2.579</td> <th>  Cond. No.          </th> <td>    39.7</td>\n",
       "</tr>\n",
       "</table><br/><br/>Notes:<br/>[1] Standard Errors assume that the covariance matrix of the errors is correctly specified."
      ],
      "text/latex": [
       "\\begin{center}\n",
       "\\begin{tabular}{lclc}\n",
       "\\toprule\n",
       "\\textbf{Dep. Variable:}               &    cognition     & \\textbf{  R-squared:         } &     0.289   \\\\\n",
       "\\textbf{Model:}                       &       OLS        & \\textbf{  Adj. R-squared:    } &     0.282   \\\\\n",
       "\\textbf{Method:}                      &  Least Squares   & \\textbf{  F-statistic:       } &     36.85   \\\\\n",
       "\\textbf{Date:}                        & Tue, 13 Aug 2024 & \\textbf{  Prob (F-statistic):} &  1.66e-37   \\\\\n",
       "\\textbf{Time:}                        &     14:07:33     & \\textbf{  Log-Likelihood:    } &   -2004.3   \\\\\n",
       "\\textbf{No. Observations:}            &         550      & \\textbf{  AIC:               } &     4023.   \\\\\n",
       "\\textbf{Df Residuals:}                &         543      & \\textbf{  BIC:               } &     4053.   \\\\\n",
       "\\textbf{Df Model:}                    &           6      & \\textbf{                     } &             \\\\\n",
       "\\textbf{Covariance Type:}             &    nonrobust     & \\textbf{                     } &             \\\\\n",
       "\\bottomrule\n",
       "\\end{tabular}\n",
       "\\begin{tabular}{lcccccc}\n",
       "                                      & \\textbf{coef} & \\textbf{std err} & \\textbf{t} & \\textbf{P$> |$t$|$} & \\textbf{[0.025} & \\textbf{0.975]}  \\\\\n",
       "\\midrule\n",
       "\\textbf{Intercept}                    &      29.4078  &        0.695     &    42.319  &         0.000        &       28.043    &       30.773     \\\\\n",
       "\\textbf{sexMW[T.1]}                   &      -3.4556  &        0.887     &    -3.895  &         0.000        &       -5.199    &       -1.713     \\\\\n",
       "\\textbf{demgroup[T.2]}                &      -5.9225  &        1.014     &    -5.843  &         0.000        &       -7.914    &       -3.931     \\\\\n",
       "\\textbf{demgroup[T.3]}                &     -16.3004  &        1.513     &   -10.777  &         0.000        &      -19.272    &      -13.329     \\\\\n",
       "\\textbf{centered\\_age}                &      -0.3340  &        0.120     &    -2.775  &         0.006        &       -0.570    &       -0.098     \\\\\n",
       "\\textbf{centered\\_grip}               &       0.6194  &        0.149     &     4.164  &         0.000        &        0.327    &        0.912     \\\\\n",
       "\\textbf{centered\\_age:centered\\_grip} &       0.1230  &        0.041     &     3.035  &         0.003        &        0.043    &        0.203     \\\\\n",
       "\\bottomrule\n",
       "\\end{tabular}\n",
       "\\begin{tabular}{lclc}\n",
       "\\textbf{Omnibus:}       &  9.621 & \\textbf{  Durbin-Watson:     } &    1.940  \\\\\n",
       "\\textbf{Prob(Omnibus):} &  0.008 & \\textbf{  Jarque-Bera (JB):  } &    7.683  \\\\\n",
       "\\textbf{Skew:}          & -0.199 & \\textbf{  Prob(JB):          } &   0.0215  \\\\\n",
       "\\textbf{Kurtosis:}      &  2.579 & \\textbf{  Cond. No.          } &     39.7  \\\\\n",
       "\\bottomrule\n",
       "\\end{tabular}\n",
       "%\\caption{OLS Regression Results}\n",
       "\\end{center}\n",
       "\n",
       "Notes: \\newline\n",
       " [1] Standard Errors assume that the covariance matrix of the errors is correctly specified."
      ],
      "text/plain": [
       "<class 'statsmodels.iolib.summary.Summary'>\n",
       "\"\"\"\n",
       "                            OLS Regression Results                            \n",
       "==============================================================================\n",
       "Dep. Variable:              cognition   R-squared:                       0.289\n",
       "Model:                            OLS   Adj. R-squared:                  0.282\n",
       "Method:                 Least Squares   F-statistic:                     36.85\n",
       "Date:                Tue, 13 Aug 2024   Prob (F-statistic):           1.66e-37\n",
       "Time:                        14:07:33   Log-Likelihood:                -2004.3\n",
       "No. Observations:                 550   AIC:                             4023.\n",
       "Df Residuals:                     543   BIC:                             4053.\n",
       "Df Model:                           6                                         \n",
       "Covariance Type:            nonrobust                                         \n",
       "==============================================================================================\n",
       "                                 coef    std err          t      P>|t|      [0.025      0.975]\n",
       "----------------------------------------------------------------------------------------------\n",
       "Intercept                     29.4078      0.695     42.319      0.000      28.043      30.773\n",
       "sexMW[T.1]                    -3.4556      0.887     -3.895      0.000      -5.199      -1.713\n",
       "demgroup[T.2]                 -5.9225      1.014     -5.843      0.000      -7.914      -3.931\n",
       "demgroup[T.3]                -16.3004      1.513    -10.777      0.000     -19.272     -13.329\n",
       "centered_age                  -0.3340      0.120     -2.775      0.006      -0.570      -0.098\n",
       "centered_grip                  0.6194      0.149      4.164      0.000       0.327       0.912\n",
       "centered_age:centered_grip     0.1230      0.041      3.035      0.003       0.043       0.203\n",
       "==============================================================================\n",
       "Omnibus:                        9.621   Durbin-Watson:                   1.940\n",
       "Prob(Omnibus):                  0.008   Jarque-Bera (JB):                7.683\n",
       "Skew:                          -0.199   Prob(JB):                       0.0215\n",
       "Kurtosis:                       2.579   Cond. No.                         39.7\n",
       "==============================================================================\n",
       "\n",
       "Notes:\n",
       "[1] Standard Errors assume that the covariance matrix of the errors is correctly specified.\n",
       "\"\"\""
      ]
     },
     "execution_count": 30,
     "metadata": {},
     "output_type": "execute_result"
    }
   ],
   "source": [
    "dementia_categorical = pd.CategoricalDtype(categories=[1,2,3],ordered=True)\n",
    "\n",
    "df[DEMENTIA_GROUP_COL] = df[DEMENTIA_GROUP_COL].astype(dementia_categorical)\n",
    "\n",
    "model = statsmodels.formula.api.ols(formula=f\"\"\"\n",
    "                                             {COGNITION_COL} ~ \n",
    "                                             {CENTERED_AGE_COL} + \n",
    "                                             {CENTERED_GRIP_COL} + \n",
    "                                             {SEX_COL} + \n",
    "                                             {DEMENTIA_GROUP_COL} +\n",
    "                                             {CENTERED_AGE_COL}*{CENTERED_GRIP_COL}\n",
    "                                             \"\"\", data=df).fit()\n",
    "\n",
    "model.summary()"
   ]
  }
 ],
 "metadata": {
  "kernelspec": {
   "display_name": "long-venv",
   "language": "python",
   "name": "python3"
  },
  "language_info": {
   "codemirror_mode": {
    "name": "ipython",
    "version": 3
   },
   "file_extension": ".py",
   "mimetype": "text/x-python",
   "name": "python",
   "nbconvert_exporter": "python",
   "pygments_lexer": "ipython3",
   "version": "3.12.4"
  }
 },
 "nbformat": 4,
 "nbformat_minor": 2
}
